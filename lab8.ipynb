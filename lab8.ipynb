{
 "cells": [
  {
   "cell_type": "markdown",
   "id": "7f5b9655-c435-467d-8b18-a1984d1fc52f",
   "metadata": {},
   "source": [
    "# Talha Shahzad\n",
    "# Section: C\n",
    "# Roll Number: 21i-0540\n",
    "# LAB 8"
   ]
  },
  {
   "cell_type": "code",
   "execution_count": 1,
   "id": "8024a33b-6a32-40a0-aa1c-33ce29e16aaf",
   "metadata": {},
   "outputs": [],
   "source": [
    "import random\n",
    "import numpy as np"
   ]
  },
  {
   "cell_type": "code",
   "execution_count": 2,
   "id": "01034887-2040-44cb-8349-458b03726564",
   "metadata": {},
   "outputs": [],
   "source": [
    "def calc_fitness(chromo):\n",
    "    # Calculate the fitness value for this chromosome\n",
    "    # The fitness is the sum of the distances between each pair of antennas\n",
    "    # We want to maximize the fitness value\n",
    "    fitness=[]\n",
    "    display=[[0,0,0,0,0,0],\n",
    "            [0,0,0,0,0,0],\n",
    "            [0,0,0,0,0,0],\n",
    "            [0,0,0,0,0,0],\n",
    "            [0,0,0,0,0,0],\n",
    "            [0,0,0,0,0,0]]\n",
    "    grid=np.zeros((6,6))\n",
    "    move=[(1,0),(-1,0),(0,1),(0,-1)]\n",
    "    val=65\n",
    "    for i in chromo:\n",
    "        x,y=i\n",
    "        display[x][y]=chr(val)\n",
    "        val+=1 \n",
    "    \n",
    "    for i in chromo:\n",
    "        x,y=i\n",
    "        grid[x,y]=1\n",
    "        for j in move:\n",
    "            tx,ty=i\n",
    "            n1,n2=j\n",
    "            tx+=n1\n",
    "            ty+=n2\n",
    "            if((tx>=0 and tx<=5) and (ty>=0 and ty<=5)):\n",
    "                grid[tx,ty]=1\n",
    "        \n",
    "    fitness=0\n",
    "    for i in grid:\n",
    "        for j in i:\n",
    "            if(j==1):\n",
    "                fitness+=1\n",
    "    return fitness\n"
   ]
  },
  {
   "cell_type": "code",
   "execution_count": 8,
   "id": "c5a6490a-5805-494a-b12d-f7f702cf46e7",
   "metadata": {},
   "outputs": [],
   "source": [
    "def selection(pop, fitness):\n",
    "    combined = [(pop[i], fitness[i]) for i in range(len(pop))]\n",
    "    \n",
    "    # sorting on basis of fitness in ascending order\n",
    "    combined.sort(key=lambda x: x[1], reverse=False)\n",
    "    sorted_pop = [item[0] for item in combined]\n",
    "    sfit = [item[1] for item in combined]\n",
    "\n",
    "    chromo1, chromo2 = sorted_pop[0], sorted_pop[1]\n",
    "    return chromo1, chromo2\n"
   ]
  },
  {
   "cell_type": "code",
   "execution_count": 4,
   "id": "8380c57f-f98c-4342-8f32-c21ea1a0ae2f",
   "metadata": {},
   "outputs": [],
   "source": [
    "def crossover(chromo1, chromo2):\n",
    "    # Perform crossover on the two selected chromosomes to create a new offspring\n",
    "    # For each gene, we choose a random number between 0 and 1. If it is less than 0.5, we choose the gene from chromo1, otherwise from chromo2\n",
    "    offspring1 = chromo1[0:3] + chromo2[3:5]\n",
    "    offspring2 = chromo2[0:3] + chromo1[3:5]\n",
    "    return offspring1, offspring2\n"
   ]
  },
  {
   "cell_type": "code",
   "execution_count": 5,
   "id": "514cb8b9-234b-4f67-849b-8a01f0acb32b",
   "metadata": {},
   "outputs": [],
   "source": [
    "def mutation(chromo):\n",
    "    x = random.randint(0, 5)\n",
    "    y = random.randint(0, 5)\n",
    "    pair = (x, y)\n",
    "\n",
    "    index = random.randint(0, len(chromo) - 1)\n",
    "    mut_chromo = chromo.copy()\n",
    "    mut_chromo[index] = pair\n",
    "    \n",
    "    return mut_chromo"
   ]
  },
  {
   "cell_type": "code",
   "execution_count": 6,
   "id": "d3d51614-663a-45bf-af49-5396646062b5",
   "metadata": {},
   "outputs": [],
   "source": [
    "def createGrid(pop_size,antennas):\n",
    "    population=[]\n",
    "\n",
    "    for i in range(pop_size):\n",
    "        pairs = set()\n",
    "        while len(pairs) < antennas:\n",
    "            x = random.randint(0, 5)\n",
    "            y = random.randint(0, 5)\n",
    "            pair = (x, y)\n",
    "            pairs.add(pair)\n",
    "        population.append(list(pairs))\n",
    "\n",
    "    return population\n",
    "    \n",
    "        "
   ]
  },
  {
   "cell_type": "code",
   "execution_count": 11,
   "id": "d93dd52c-b2d2-4139-b7b5-cde288c9a831",
   "metadata": {},
   "outputs": [
    {
     "name": "stdout",
     "output_type": "stream",
     "text": [
      "Population: \n",
      " [[(4, 4), (3, 4), (4, 5), (0, 5), (2, 2)], [(4, 0), (0, 0), (3, 0), (3, 2), (1, 3)], [(0, 4), (4, 2), (1, 4), (1, 0), (2, 5)], [(1, 2), (3, 4), (0, 0), (0, 2), (3, 3)], [(3, 1), (2, 0), (5, 1), (5, 0), (5, 3)], [(4, 3), (5, 4), (4, 2), (5, 3), (1, 3)], [(4, 0), (1, 2), (5, 4), (1, 1), (4, 5)], [(1, 1), (4, 5), (0, 5), (1, 0), (3, 5)], [(4, 3), (0, 3), (2, 0), (5, 0), (1, 0)], [(2, 3), (0, 5), (1, 0), (2, 5), (3, 5)], [(0, 4), (3, 4), (4, 3), (1, 4), (4, 2)], [(0, 1), (2, 1), (1, 1), (1, 4), (2, 3)], [(4, 4), (1, 2), (3, 1), (5, 1), (4, 2)], [(1, 2), (1, 1), (0, 3), (1, 4), (1, 0)], [(0, 1), (0, 4), (0, 0), (5, 4), (0, 5)], [(4, 4), (2, 4), (0, 0), (4, 5), (2, 5)], [(1, 2), (5, 5), (3, 4), (3, 1), (5, 2)], [(0, 3), (4, 5), (3, 3), (2, 2), (5, 2)], [(2, 1), (3, 1), (1, 0), (3, 5), (5, 2)], [(2, 1), (4, 3), (1, 4), (4, 2), (5, 2)]] \n",
      "\n",
      "Highest Fitness value: 22 at index 16\n",
      "Fitness:  [17, 18, 18, 17, 14, 15, 18, 16, 18, 16, 17, 17, 19, 15, 14, 15, 22, 20, 18, 19]\n",
      "Chromosome 1:  [(3, 1), (2, 0), (5, 1), (5, 0), (5, 3)]\n",
      "Chromosome 2:  [(0, 1), (0, 4), (0, 0), (5, 4), (0, 5)]\n",
      "Offspring 1 After crossover and mutation:  [(3, 1), (2, 0), (3, 1), (5, 4), (0, 5)]\n",
      "Offspring 2 After crossover and mutation:  [(0, 1), (0, 4), (0, 0), (5, 3), (5, 3)]\n"
     ]
    }
   ],
   "source": [
    "def main():\n",
    "    # Create a random initial population of 20 chromosomes and 5 antennas\n",
    "    population = createGrid(20,5)\n",
    "    print(\"Population: \\n\",population,\"\\n\")\n",
    "    for i in range(100):\n",
    "        # Calculate the fitness of each chromosome\n",
    "        fitness = [calc_fitness(chromo) for chromo in population]\n",
    "        # Select two chromosomes for crossover\n",
    "        chromo1, chromo2 = selection(population, fitness)\n",
    "        # Perform crossover to create two new offspring\n",
    "        offspring1, offspring2 = crossover(chromo1, chromo2)\n",
    "        # Mutate the two offspring\n",
    "        offspring1 = mutation(offspring1)\n",
    "        offspring2 = mutation(offspring2)\n",
    "        # Replace the two worst chromosomes with the new offspring\n",
    "        worst_idx1 = fitness.index(max(fitness))\n",
    "\n",
    "    print('Highest Fitness value:',max(fitness),'at index',worst_idx1)\n",
    "    print('Fitness: ',fitness)\n",
    "    print('Chromosome 1: ',chromo1)\n",
    "    print('Chromosome 2: ',chromo2)\n",
    "    print('Offspring 1 After crossover and mutation: ',offspring1)\n",
    "    print('Offspring 2 After crossover and mutation: ',offspring2)\n",
    "main()"
   ]
  },
  {
   "cell_type": "code",
   "execution_count": null,
   "id": "3e858375-c806-4bac-b8c1-6ed73aa15756",
   "metadata": {},
   "outputs": [],
   "source": []
  }
 ],
 "metadata": {
  "kernelspec": {
   "display_name": "Python 3 (ipykernel)",
   "language": "python",
   "name": "python3"
  },
  "language_info": {
   "codemirror_mode": {
    "name": "ipython",
    "version": 3
   },
   "file_extension": ".py",
   "mimetype": "text/x-python",
   "name": "python",
   "nbconvert_exporter": "python",
   "pygments_lexer": "ipython3",
   "version": "3.11.5"
  }
 },
 "nbformat": 4,
 "nbformat_minor": 5
}
