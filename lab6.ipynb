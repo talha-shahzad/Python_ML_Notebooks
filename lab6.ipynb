{
 "cells": [
  {
   "cell_type": "code",
   "execution_count": 28,
   "id": "8a107355-f0e5-46dc-a01c-a19a47326cd5",
   "metadata": {},
   "outputs": [],
   "source": [
    "import numpy as np\n",
    "import math as mt"
   ]
  },
  {
   "cell_type": "code",
   "execution_count": 29,
   "id": "a1b7c5c7-741a-403b-b4d7-b3316f6734f4",
   "metadata": {},
   "outputs": [],
   "source": [
    "def heuristic(nlocx,nlocy):\n",
    "    if((nlocx>=0 and nlocy>=0) and (nlocx<5 and nlocy<5)):\n",
    "        dif=mt.pow(state.destx-nlocx,2)+mt.pow(state.desty-nlocy,2)\n",
    "        dist=mt.sqrt(dif)\n",
    "    else:\n",
    "        dist=99999.00\n",
    "    return dist"
   ]
  },
  {
   "cell_type": "code",
   "execution_count": 30,
   "id": "d908a217-7a0e-4144-9e8a-7f26d4edc373",
   "metadata": {},
   "outputs": [],
   "source": [
    "class Move:\n",
    "    def __init__(self,startx,starty,destx,desty,grid):\n",
    "        self.locx=startx\n",
    "        self.locy=starty\n",
    "        self.destx=destx\n",
    "        self.desty=desty\n",
    "        self.grid=grid\n",
    "    "
   ]
  },
  {
   "cell_type": "code",
   "execution_count": 31,
   "id": "f8d98f88-3e5f-4732-8135-ca2dd40a97fb",
   "metadata": {},
   "outputs": [],
   "source": [
    "def nextLocations(loc, grid):\n",
    "    next = []\n",
    "    rows = 5\n",
    "    cols = 5\n",
    "    movements = [(1, 0), (-1, 0), (0, 1), (0, -1)]\n",
    "    for delta in movements:\n",
    "        r = loc[0] + delta[0]\n",
    "        c = loc[1] + delta[1]\n",
    "        if ((0 <= r < rows) and (0 <= c < cols) and (grid[r][c] != '1')):\n",
    "            next.append((r, c))\n",
    "    return next"
   ]
  },
  {
   "cell_type": "code",
   "execution_count": 37,
   "id": "3201ed73-5ff2-4a0e-94a8-32a8e032a7bb",
   "metadata": {},
   "outputs": [],
   "source": [
    "\n",
    "def greedySearch(state):\n",
    "    openList = [(state.locx,state.locy)] \n",
    "    closeList = set()  \n",
    "    while openList:\n",
    "        cnode = openList.pop(0)\n",
    "        if state.grid[cnode[0]][cnode[1]] == 'D':  \n",
    "            print(\"Reached destination at location\", cnode)\n",
    "            return state\n",
    "\n",
    "        closeList.add(cnode)  \n",
    "\n",
    "        for adjacent in nextLocations(cnode, state.grid):\n",
    "            if adjacent not in closeList and adjacent not in openList:\n",
    "                openList.append(adjacent)  \n",
    "                \n",
    "        openList.sort(key=lambda loc: heuristic(loc[0], loc[1]))\n",
    "        newNode = openList[0]\n",
    "        state.locx, state.locy = newNode\n",
    "        print(\"Moving to location\", state.locx, state.locy)\n",
    "\n",
    "    print(\"No path found.\")\n",
    "    return percept\n"
   ]
  },
  {
   "cell_type": "code",
   "execution_count": 38,
   "id": "1dcf38af-d8f2-44c9-9288-e03fe4c97d47",
   "metadata": {},
   "outputs": [
    {
     "name": "stdout",
     "output_type": "stream",
     "text": [
      "Moving to location 1 0\n",
      "Moving to location 2 0\n",
      "Moving to location 3 0\n",
      "Moving to location 1 1\n",
      "Moving to location 1 2\n",
      "Moving to location 4 0\n",
      "Moving to location 4 1\n",
      "Moving to location 4 2\n",
      "Moving to location 3 2\n",
      "Reached destination at location (3, 2)\n",
      "\n",
      "You Reached at destination \n",
      "\n"
     ]
    }
   ],
   "source": [
    "grid =    np.array([['S','0','0','0','0'],\n",
    "                    ['0','0','0','0','0'],\n",
    "                    ['0','1','1','1','0'],\n",
    "                    ['0','1','D','1','0'],\n",
    "                    ['0','0','0','0','0']])\n",
    "state=Move(0,0,3,2,grid)\n",
    "search=greedySearch(state)\n",
    "print(\"\\nYou Reached at destination \\n\")"
   ]
  },
  {
   "cell_type": "code",
   "execution_count": null,
   "id": "1af403cc-ffdd-4201-81e1-98af5ca398cf",
   "metadata": {},
   "outputs": [],
   "source": []
  }
 ],
 "metadata": {
  "kernelspec": {
   "display_name": "Python 3 (ipykernel)",
   "language": "python",
   "name": "python3"
  },
  "language_info": {
   "codemirror_mode": {
    "name": "ipython",
    "version": 3
   },
   "file_extension": ".py",
   "mimetype": "text/x-python",
   "name": "python",
   "nbconvert_exporter": "python",
   "pygments_lexer": "ipython3",
   "version": "3.11.5"
  }
 },
 "nbformat": 4,
 "nbformat_minor": 5
}
