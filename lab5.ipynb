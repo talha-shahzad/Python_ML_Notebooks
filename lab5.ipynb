{
 "cells": [
  {
   "cell_type": "code",
   "execution_count": 1,
   "id": "28251c1d-d5b8-46ba-964e-30a00b06f77f",
   "metadata": {},
   "outputs": [],
   "source": [
    "# Talha Shahzad\n",
    "# 21i-0540\n",
    "# section: C"
   ]
  },
  {
   "cell_type": "markdown",
   "id": "9375ac74-bb4e-4e4f-a64c-8e1fbcbc15d1",
   "metadata": {},
   "source": [
    "# Task 1"
   ]
  },
  {
   "cell_type": "code",
   "execution_count": 115,
   "id": "28f94c41-02dd-404f-a827-b6ab3e340a8d",
   "metadata": {},
   "outputs": [
    {
     "name": "stdout",
     "output_type": "stream",
     "text": [
      "{'A': ['B', 'C'], 'B': ['D', 'E'], 'C': ['F'], 'D': [], 'E': ['G'], 'F': [], 'G': []}\n"
     ]
    }
   ],
   "source": [
    "# creating the graph\n",
    "graph={\n",
    "    'A':['B','C'],\n",
    "    'B':['D','E'],\n",
    "    'C':['F'],\n",
    "    'D':[],\n",
    "    'E':['G'],\n",
    "    'F':[],\n",
    "    'G':[]\n",
    "}\n",
    "print(graph)"
   ]
  },
  {
   "cell_type": "code",
   "execution_count": 131,
   "id": "8699e1ed-7c78-4abc-a441-88492ac5941e",
   "metadata": {},
   "outputs": [],
   "source": [
    "# DFS Traversal\n",
    "def DFS_Traversal(graph,visited,path):\n",
    "    if(visited):\n",
    "        start=visited.pop()\n",
    "    else:\n",
    "        return\n",
    "    print('start '+start)\n",
    "    list=graph[start]\n",
    "    if(list):\n",
    "        list=list[::-1]\n",
    "        for i in list:\n",
    "            visited.append(i)\n",
    "    path.append(start)\n",
    "    DFS_Traversal(graph,visited,path)"
   ]
  },
  {
   "cell_type": "code",
   "execution_count": 132,
   "id": "9d88b071-9155-4cf7-abad-15c596fb3a9b",
   "metadata": {},
   "outputs": [
    {
     "name": "stdout",
     "output_type": "stream",
     "text": [
      "start A\n",
      "start B\n",
      "start D\n",
      "start E\n",
      "start G\n",
      "start C\n",
      "start F\n",
      "['A', 'B', 'D', 'E', 'G', 'C', 'F']\n"
     ]
    }
   ],
   "source": [
    "# Calling the funtion with required parameters\n",
    "start='A'\n",
    "end='G'\n",
    "size=len(graph)\n",
    "visited=[]\n",
    "visited.append(start)\n",
    "path=[]\n",
    "DFS_Traversal(graph,visited,path)\n",
    "print(path)"
   ]
  },
  {
   "cell_type": "markdown",
   "id": "bde5567e-dd03-416b-97d1-aecfc8f77e70",
   "metadata": {},
   "source": [
    "# Task 2"
   ]
  },
  {
   "cell_type": "code",
   "execution_count": 193,
   "id": "8c0d32a6-762e-48fc-92ab-ea030fb55f7e",
   "metadata": {},
   "outputs": [],
   "source": [
    "\n",
    "def findLadders(startWord, endWord, wordList,wordSet):\n",
    "    letters=''\n",
    "    for i in range(26):\n",
    "        letters+=(chr(97+i))\n",
    "        \n",
    "    result=[]\n",
    "    while (queue):\n",
    "        word, path = queue.popleft()\n",
    "        print(word,path)\n",
    "        \n",
    "        if (word == endWord):\n",
    "            result.append(path)\n",
    "\n",
    "        for i in range(len(word)):\n",
    "            for char in letters:\n",
    "                new = word[:i] + char + word[i+1:]\n",
    "                if (new in wordSet and new != word):\n",
    "                    wordSet.remove(new)\n",
    "                    queue.append((new, path + [new]))\n",
    "\n",
    "    min_length = min(len(path) for path in result)\n",
    "    for path in result:\n",
    "        if (len(path) == min_length):\n",
    "            return path\n"
   ]
  },
  {
   "cell_type": "code",
   "execution_count": 194,
   "id": "6d8a83f7-6315-4eee-8031-82d5b2eb8ccd",
   "metadata": {},
   "outputs": [
    {
     "name": "stdout",
     "output_type": "stream",
     "text": [
      "hit ['hit']\n",
      "hot ['hit', 'hot']\n",
      "dot ['hit', 'hot', 'dot']\n",
      "lot ['hit', 'hot', 'lot']\n",
      "dog ['hit', 'hot', 'dot', 'dog']\n",
      "log ['hit', 'hot', 'lot', 'log']\n",
      "cog ['hit', 'hot', 'dot', 'dog', 'cog']\n",
      "Shortest transformation sequence(s): ['hit', 'hot', 'dot', 'dog', 'cog']\n"
     ]
    }
   ],
   "source": [
    "from collections import deque\n",
    "\n",
    "wordDict = [\"hot\", \"dot\", \"dog\", \"lot\", \"log\", \"cog\"]\n",
    "start = \"hit\"\n",
    "end = \"cog\"\n",
    "wordSet = set(wordDict)\n",
    "\n",
    "queue = deque([(startWord, [startWord])])\n",
    "result = findLadders(start, end, wordList, wordSet)\n",
    "print(\"Shortest transformation sequence(s):\", result)\n"
   ]
  },
  {
   "cell_type": "code",
   "execution_count": null,
   "id": "37b74a9b-a120-4c48-be8e-20471ea294d5",
   "metadata": {},
   "outputs": [],
   "source": []
  }
 ],
 "metadata": {
  "kernelspec": {
   "display_name": "Python 3 (ipykernel)",
   "language": "python",
   "name": "python3"
  },
  "language_info": {
   "codemirror_mode": {
    "name": "ipython",
    "version": 3
   },
   "file_extension": ".py",
   "mimetype": "text/x-python",
   "name": "python",
   "nbconvert_exporter": "python",
   "pygments_lexer": "ipython3",
   "version": "3.11.5"
  }
 },
 "nbformat": 4,
 "nbformat_minor": 5
}
