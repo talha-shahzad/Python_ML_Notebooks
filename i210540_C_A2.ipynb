{
  "nbformat": 4,
  "nbformat_minor": 0,
  "metadata": {
    "colab": {
      "provenance": []
    },
    "kernelspec": {
      "name": "python3",
      "display_name": "Python 3"
    },
    "language_info": {
      "name": "python"
    }
  },
  "cells": [
    {
      "cell_type": "markdown",
      "source": [
        "**Name:**  Talha Shahzad\n",
        "\n",
        "**Section:** C\n",
        "\n",
        "**Roll#**  21i-0540\n",
        "\n",
        "**Numerical Assignment # 2**"
      ],
      "metadata": {
        "id": "ISzbsXLB6HTu"
      }
    },
    {
      "cell_type": "markdown",
      "source": [],
      "metadata": {
        "id": "psYbvEWp6Glk"
      }
    },
    {
      "cell_type": "code",
      "execution_count": 73,
      "metadata": {
        "id": "4SSJi8YbsuCW"
      },
      "outputs": [],
      "source": [
        "import numpy as np\n",
        "import pandas as pd\n",
        "import math as mt\n",
        "import matplotlib.pyplot as plt\n"
      ]
    },
    {
      "cell_type": "code",
      "source": [
        "data = pd.read_csv(\"Anscombe_quartet_data.csv\")\n",
        "\n",
        "#getting the Subset II data\n",
        "XII=data['x123']\n",
        "YII=data['y2']\n",
        "\n",
        "#storing subset II data in sorted from\n",
        "x2=np.sort(XII)\n",
        "y2=np.sort(YII)\n",
        "\n",
        "#Getting subset of Subset II  for Langrange\n",
        "X1=x2[4:-1]\n",
        "Y1=y2[4:-1]\n",
        "\n",
        "#X1=np.array(XII[4:-1])\n",
        "#Y1=np.array(YII[4:-1])\n",
        "\n",
        "print(x2,y2,X1,Y1)"
      ],
      "metadata": {
        "colab": {
          "base_uri": "https://localhost:8080/"
        },
        "id": "xdIx6fQ8s1BW",
        "outputId": "0de09dcd-0023-41de-ea1f-0d4158018ef2"
      },
      "execution_count": 74,
      "outputs": [
        {
          "output_type": "stream",
          "name": "stdout",
          "text": [
            "[ 4.  5.  6.  7.  8.  9. 10. 11. 12. 13. 14.] [3.1  4.74 6.13 7.26 8.1  8.14 8.74 8.77 9.13 9.14 9.26] [ 8.  9. 10. 11. 12. 13.] [8.1  8.14 8.74 8.77 9.13 9.14]\n"
          ]
        }
      ]
    },
    {
      "cell_type": "code",
      "source": [
        "\n",
        "def RMSE(y_actual, y_predicted):\n",
        "  #root mean square error have 3 main things\n",
        "  #1. Finding the finding the difference and taking square to keep it positive\n",
        "  squared_diff = (y_actual - y_predicted) ** 2\n",
        "  # 2. finding the mean of calculated error\n",
        "  mean_squared_error = np.mean(squared_diff)\n",
        "  # 3. returning thr square root of the mean\n",
        "  return np.sqrt(mean_squared_error)"
      ],
      "metadata": {
        "id": "xuK9Wlwew4Xm"
      },
      "execution_count": 75,
      "outputs": []
    },
    {
      "cell_type": "code",
      "source": [
        "coefficients = np.polyfit(x2, y2, 3)\n",
        "polynomial_func = np.poly1d(coefficients)\n",
        "\n",
        "# Generate x values for plotting\n",
        "x_values = np.linspace(min(x2), max(x2), 11)\n",
        "\n",
        "# Evaluate the polynomial function at x values\n",
        "y_poly = polynomial_func(x2)\n",
        "print(y_poly)\n",
        "\n",
        "# Plotting the data and the fitted polynomial\n",
        "plt.scatter(x2, y2, label='Data')\n",
        "plt.plot(x_values, y_poly, color='red', label='Fitted Polynomial (degree 3)')\n",
        "plt.xlabel('X2')\n",
        "plt.ylabel('Y2')\n",
        "plt.legend()\n",
        "plt.grid(True)\n",
        "plt.show()"
      ],
      "metadata": {
        "colab": {
          "base_uri": "https://localhost:8080/",
          "height": 484
        },
        "id": "yGsi5lCqt7OA",
        "outputId": "ca5ecb4e-4534-4281-f3f4-0790ea6ba8e7"
      },
      "execution_count": 76,
      "outputs": [
        {
          "output_type": "stream",
          "name": "stdout",
          "text": [
            "[3.06104895 4.81916084 6.17368298 7.18138695 7.89904429 8.38342657\n",
            " 8.69130536 8.87945221 9.00463869 9.12363636 9.29321678]\n"
          ]
        },
        {
          "output_type": "display_data",
          "data": {
            "text/plain": [
              "<Figure size 640x480 with 1 Axes>"
            ],
            "image/png": "[encoded data removed]"
          },
          "metadata": {}
        }
      ]
    },
    {
      "cell_type": "code",
      "source": [
        "from scipy.interpolate import lagrange\n",
        "p_lagrange = lagrange(X1, Y1)\n",
        "original_x = np.array(X1)\n",
        "y_lag = p_lagrange(original_x)\n",
        "\n",
        "# Print the predicted y values\n",
        "print(\"Predicted y values using Lagrange interpolation:\")\n",
        "print(y_lag)"
      ],
      "metadata": {
        "colab": {
          "base_uri": "https://localhost:8080/"
        },
        "id": "EsQzgzSeu84U",
        "outputId": "4054bad3-1c00-49df-d48f-fce5a409d32e"
      },
      "execution_count": 78,
      "outputs": [
        {
          "output_type": "stream",
          "name": "stdout",
          "text": [
            "Predicted y values using Lagrange interpolation:\n",
            "[8.1  8.14 8.74 8.77 9.13 9.14]\n"
          ]
        }
      ]
    },
    {
      "cell_type": "code",
      "source": [
        "# error finding using RMSE between y_poly and y2_values\n",
        "rmse_poly_original=[]\n",
        "for i in range(len(y_poly)):\n",
        "  rmse_poly_original.append(RMSE(y2[i],y_poly[i]))\n",
        "print(rmse_poly_original)\n",
        "np.mean(rmse_poly_original)"
      ],
      "metadata": {
        "colab": {
          "base_uri": "https://localhost:8080/"
        },
        "id": "DY1GVNI1wClb",
        "outputId": "a6bed324-7bb2-4968-ee6c-566281ad6f4f"
      },
      "execution_count": 79,
      "outputs": [
        {
          "output_type": "stream",
          "name": "stdout",
          "text": [
            "[0.03895104895104007, 0.0791608391608456, 0.04368298368298529, 0.07861305361305782, 0.2009557109557143, 0.24342657342656615, 0.04869463869464852, 0.10945221445219566, 0.12536130536133072, 0.016363636363672995, 0.033216783216737156]\n"
          ]
        },
        {
          "output_type": "execute_result",
          "data": {
            "text/plain": [
              "0.09253443526170857"
            ]
          },
          "metadata": {},
          "execution_count": 79
        }
      ]
    },
    {
      "cell_type": "code",
      "source": [
        "# error finding using RMSE between y_lag and y2_values\n",
        "rmse_lag_original=[]\n",
        "for i in range(len(y_lag)):\n",
        "  rmse_lag_original.append(RMSE(y2[i],y_lag[i]))\n",
        "print(rmse_lag_original)\n",
        "np.mean(rmse_lag_original)"
      ],
      "metadata": {
        "colab": {
          "base_uri": "https://localhost:8080/"
        },
        "id": "FY0Qqc3PxnmV",
        "outputId": "3ab8f505-96a2-45f7-9674-464e121bbeb6"
      },
      "execution_count": 80,
      "outputs": [
        {
          "output_type": "stream",
          "name": "stdout",
          "text": [
            "[4.999999999951251, 3.3999999999425743, 2.6099999999283865, 1.5099999999035756, 1.0299999998700518, 0.9999999998284324]\n"
          ]
        },
        {
          "output_type": "execute_result",
          "data": {
            "text/plain": [
              "2.4249999999040455"
            ]
          },
          "metadata": {},
          "execution_count": 80
        }
      ]
    },
    {
      "cell_type": "code",
      "source": [
        "# In this case error value of y_poly is lesser than than of langrange\n",
        "\n",
        "# As  y-poly tries to fit the datasets in the curve\n",
        "# As  y_langrange using the formula fit the points according to the dataset making it more closer to the real values\n",
        "\n",
        "#CONCLUSION\n",
        "# we are trying to get the langrange interpolation of subset at the end of dataset\n",
        "# but while taking RMSE we took it from start making it greater error than the other one"
      ],
      "metadata": {
        "id": "OYoO_dtcx7ot"
      },
      "execution_count": 81,
      "outputs": []
    },
    {
      "cell_type": "code",
      "source": [],
      "metadata": {
        "id": "1B7AKOE34j8r"
      },
      "execution_count": null,
      "outputs": []
    },
    {
      "cell_type": "markdown",
      "source": [],
      "metadata": {
        "id": "isD9tpnt4jt-"
      }
    }
  ]
}