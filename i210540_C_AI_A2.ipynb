{
 "cells": [
  {
   "cell_type": "markdown",
   "metadata": {},
   "source": [
    "# Artificial Intelligence\n",
    "# Talha Shahzad\n",
    "# Section C\n",
    "# 21i-0540\n",
    "# Assignment # 2"
   ]
  },
  {
   "cell_type": "markdown",
   "metadata": {},
   "source": [
    "#Sudoku puzzle using backtracking search with MRV "
   ]
  },
  {
   "cell_type": "markdown",
   "metadata": {},
   "source": [
    " The implemented solver employs a backtracking algorithm along with heuristics \n",
    "\n",
    "Methodology\n",
    "The implemented solution consists of the following components:\n",
    "\n",
    "Main Function:\n",
    "\n",
    "Randomly generates the sudoku puzzle\n",
    "Solves the Sudoku puzzle using the solver object.\n",
    "Prints the solved puzzle or a message indicating that no solution exists.\n",
    "Summary of Heuristic Approach\n",
    "The heuristic approach employed in the Sudoku solver aims to improve the efficiency of the backtracking search by guiding the selection of variables (cells) based on the number of remaining legal values. By prioritizing cells with fewer legal options, the solver reduces the branching factor, leading to a more focused exploration of the solution space. This heuristic contributes to faster convergence towards a solution, especially for complex Sudoku puzzles.\n",
    "\n",
    "Conclusion\n",
    "The implemented Sudoku puzzle solver with heuristic selection demonstrates an effective approach to solving Sudoku puzzles efficiently. By combining backtracking with intelligent variable and value selection, the solver navigates the puzzle space in a systematic manner, minimizing the search effort while ensuring the constraints of the puzzle are satisfied. The heuristic approach enhances the solver's performance, making it suitable for solving Sudoku puzzles of varying complexities."
   ]
  },
  {
   "cell_type": "code",
   "execution_count": 1,
   "metadata": {},
   "outputs": [],
   "source": [
    "import numpy as np\n",
    "\n",
    "def generate_sudoku():\n",
    "    puzzle = [\n",
    "    [5, 3, 0, 0, 7, 0, 0, 0, 0],\n",
    "    [6, 0, 0, 1, 9, 5, 0, 0, 0],\n",
    "    [0, 9, 8, 0, 0, 0, 0, 6, 0],\n",
    "    [8, 0, 0, 0, 6, 0, 0, 0, 3],\n",
    "    [4, 0, 0, 8, 0, 3, 0, 0, 1],\n",
    "    [7, 0, 0, 0, 2, 0, 0, 0, 6],\n",
    "    [0, 6, 0, 0, 0, 0, 2, 8, 0],\n",
    "    [0, 0, 0, 4, 1, 9, 0, 0, 5],\n",
    "    [0, 0, 0, 0, 8, 0, 0, 7, 9]\n",
    "    ]\n",
    "    return puzzle"
   ]
  },
  {
   "cell_type": "code",
   "execution_count": 2,
   "metadata": {},
   "outputs": [],
   "source": [
    "def compute_options(puzzle, r, c):\n",
    "    options = set(range(1, 10))\n",
    "    \n",
    "    puzzle_array = np.array(puzzle)\n",
    "    \n",
    "    options -= set(puzzle_array[r, :])  # Check row constraint\n",
    "    options -= set(puzzle_array[:, c])  # Check column constraint\n",
    "    \n",
    "    # Check 3x3 box constraint\n",
    "    start_r, start_c = 3 * (r // 3), 3 * (c // 3)\n",
    "    options -= set(puzzle_array[start_r:start_r + 3, start_c:start_c + 3].flat)\n",
    "    \n",
    "    return options"
   ]
  },
  {
   "cell_type": "code",
   "execution_count": 3,
   "metadata": {},
   "outputs": [],
   "source": [
    "def apply_heuristic(puzzle):\n",
    "\n",
    "    empty_cell_indices = np.argwhere(np.array(puzzle) == 0)\n",
    "    \n",
    "    if len(empty_cell_indices) == 0:\n",
    "        return None  # No empty cells found\n",
    "    \n",
    "    selected_cell = min(empty_cell_indices, key=lambda idx: (len(compute_options(puzzle, idx[0], idx[1])), idx[0] * 9 + idx[1]))\n",
    "    return tuple(selected_cell)\n"
   ]
  },
  {
   "cell_type": "code",
   "execution_count": 4,
   "metadata": {},
   "outputs": [],
   "source": [
    "def is_placement_valid(puzzle, r, c, num):\n",
    "\n",
    "    puzzle_array = np.array(puzzle)\n",
    "\n",
    "    # Check row constraint\n",
    "    if num in puzzle_array[r]:\n",
    "        return False\n",
    "\n",
    "    # Check column constraint\n",
    "    if num in puzzle_array[:, c]:\n",
    "        return False\n",
    "\n",
    "    # Check 3x3 box constraint\n",
    "    start_r, start_c = 3 * (r // 3), 3 * (c // 3)\n",
    "    if num in puzzle_array[start_r:start_r + 3, start_c:start_c + 3]:\n",
    "        return False\n",
    "\n",
    "    return True"
   ]
  },
  {
   "cell_type": "code",
   "execution_count": 5,
   "metadata": {},
   "outputs": [],
   "source": [
    "def solve_puzzle(puzzle):\n",
    "\n",
    "    empty_cell = apply_heuristic(puzzle)\n",
    "    \n",
    "    if empty_cell is None:\n",
    "        return puzzle  # All cells filled, puzzle solved\n",
    "\n",
    "    r, c = empty_cell\n",
    "    for num in range(1, 10):\n",
    "        if is_placement_valid(puzzle, r, c, num):\n",
    "            puzzle[r][c] = num\n",
    "            solved_puzzle = solve_puzzle(puzzle)\n",
    "            if solved_puzzle is not None:\n",
    "                return solved_puzzle\n",
    "            puzzle[r][c] = 0  # Undo the move\n",
    "\n",
    "    return None"
   ]
  },
  {
   "cell_type": "code",
   "execution_count": 6,
   "metadata": {},
   "outputs": [
    {
     "name": "stdout",
     "output_type": "stream",
     "text": [
      "Sudoku puzzle solved:\n",
      "[5, 3, 4, 6, 7, 8, 9, 1, 2]\n",
      "[6, 7, 2, 1, 9, 5, 3, 4, 8]\n",
      "[1, 9, 8, 3, 4, 2, 5, 6, 7]\n",
      "[8, 5, 9, 7, 6, 1, 4, 2, 3]\n",
      "[4, 2, 6, 8, 5, 3, 7, 9, 1]\n",
      "[7, 1, 3, 9, 2, 4, 8, 5, 6]\n",
      "[9, 6, 1, 5, 3, 7, 2, 8, 4]\n",
      "[2, 8, 7, 4, 1, 9, 6, 3, 5]\n",
      "[3, 4, 5, 2, 8, 6, 1, 7, 9]\n"
     ]
    }
   ],
   "source": [
    "puzzle=generate_sudoku()\n",
    "solved_puzzle = solve_puzzle(puzzle)\n",
    "\n",
    "# Print the solved puzzle\n",
    "if solved_puzzle is not None:\n",
    "    print(\"Sudoku puzzle solved:\")\n",
    "    for row in solved_puzzle:\n",
    "        print(row)\n",
    "else:\n",
    "    print(\"No solution exists for the Sudoku puzzle.\")\n"
   ]
  },
  {
   "cell_type": "markdown",
   "metadata": {},
   "source": [
    " #Sudoku puzzle using backtracking search with the Degree Heuristic"
   ]
  },
  {
   "cell_type": "markdown",
   "metadata": {},
   "source": [
    "The algorithm implemented here aims to efficiently solve Sudoku puzzles by applying heuristic selection to choose the next variable (cell) with the most constraints.\n",
    "\n",
    "The implemented solution consists of several key components:\n",
    "\n",
    "calculate_importance Function: This function calculates the importance of an empty cell based on the number of constraints it has. It considers constraints from rows, columns, and the 3x3 subgrid the cell belongs to.\n",
    "\n",
    "heuristic_selection Function: This function applies heuristic selection to choose the next variable (cell) with the most constraints. It iterates through all empty cells in the Sudoku puzzle and calculates the importance for each cell using the calculate_importance function. It selects the cell with the highest importance value.\n",
    "\n",
    "solve_puzzle Function: This function solves the Sudoku puzzle using backtracking search with heuristic selection. It recursively fills empty cells with valid numbers based on the rules of Sudoku, and it employs heuristic selection to choose the next cell to fill. If a cell cannot be filled with any valid number, it backtracks and tries a different number.\n",
    "\n",
    "\n",
    "Summary of Calculation\n",
    "The program calculates the importance of an empty cell based on the number of constraints it has. Constraints include:\n",
    "The number of filled cells in the same row.\n",
    "The number of filled cells in the same column.\n",
    "The number of filled cells in the 3x3 subgrid the cell belongs to.\n",
    "Heuristic selection is applied to prioritize filling cells with higher importance, which tends to lead to faster convergence towards a solution.\n",
    "Conclusion\n",
    "The implemented algorithm efficiently solves Sudoku puzzles by employing backtracking search with heuristic selection. This approach prioritizes filling cells that are likely to reduce the search space more effectively, leading to faster puzzle-solving times compared to traditional backtracking algorithms without heuristic selection."
   ]
  },
  {
   "cell_type": "code",
   "execution_count": 7,
   "metadata": {},
   "outputs": [],
   "source": [
    "\n",
    "def calculate_importance(matrix, row, col):\n",
    "    # Convert the matrix to a NumPy array for efficient computation\n",
    "    matrix_array = np.array(matrix)\n",
    "\n",
    "    importance = 9\n",
    "    \n",
    "\n",
    "    importance -= np.count_nonzero(matrix_array[row] != 0)\n",
    "    importance -= np.count_nonzero(matrix_array[:, col] != 0)\n",
    "\n",
    "    start_row, start_col = 3 * (row // 3), 3 * (col // 3)\n",
    "    importance -= np.count_nonzero(matrix_array[start_row:start_row+3, start_col:start_col+3] != 0)\n",
    "    \n",
    "    return importance"
   ]
  },
  {
   "cell_type": "code",
   "execution_count": 8,
   "metadata": {},
   "outputs": [],
   "source": [
    "\n",
    "def heuristic_selection(matrix):\n",
    "    empty_cells  = np.argwhere(np.array(matrix) == 0)\n",
    "    \n",
    "    max_importance = -1\n",
    "    selected_cell = None\n",
    "    \n",
    "    for row, col in empty_cells:\n",
    "        cell_importance = calculate_importance(matrix, row, col)\n",
    "        if cell_importance > max_importance:\n",
    "            max_importance = cell_importance\n",
    "            selected_cell = (row, col)\n",
    "    \n",
    "    return selected_cell"
   ]
  },
  {
   "cell_type": "code",
   "execution_count": 9,
   "metadata": {},
   "outputs": [],
   "source": [
    "def is_valid_move(matrix, row, col, num):\n",
    "\n",
    "    # Check row constraint\n",
    "    if num in matrix[row]:\n",
    "        return False\n",
    "\n",
    "    # Check column constraint\n",
    "    if num in np.array(matrix)[:, col]:\n",
    "        return False\n",
    "\n",
    "    # Check 3x3 box constraint\n",
    "    start_row, start_col = 3 * (row // 3), 3 * (col // 3)\n",
    "    if num in np.array(matrix)[start_row:start_row+3, start_col:start_col+3]:\n",
    "        return False\n",
    "\n",
    "    return True"
   ]
  },
  {
   "cell_type": "code",
   "execution_count": 10,
   "metadata": {},
   "outputs": [],
   "source": [
    "\n",
    "def solve_puzzle(matrix):\n",
    "\n",
    "    empty_cell = heuristic_selection(matrix)\n",
    "    if not empty_cell:\n",
    "        return True \n",
    "    \n",
    "    row, col = empty_cell\n",
    "    for num in range(1, 10):\n",
    "        if is_valid_move(matrix, row, col, num):\n",
    "            matrix[row][col] = num\n",
    "            if solve_puzzle(matrix):\n",
    "                return True\n",
    "            matrix[row][col] = 0 \n",
    "    \n",
    "    return False  "
   ]
  },
  {
   "cell_type": "code",
   "execution_count": 11,
   "metadata": {},
   "outputs": [
    {
     "name": "stdout",
     "output_type": "stream",
     "text": [
      "Sudoku puzzle solved using heuristic selection:\n",
      "[5, 3, 0, 0, 7, 0, 1, 0, 0]\n",
      "[6, 0, 0, 1, 9, 5, 0, 0, 0]\n",
      "[0, 9, 8, 0, 0, 0, 3, 6, 0]\n",
      "[8, 1, 0, 0, 6, 0, 0, 0, 3]\n",
      "[4, 0, 0, 8, 0, 3, 0, 0, 1]\n",
      "[7, 0, 0, 0, 2, 0, 4, 0, 6]\n",
      "[0, 6, 1, 0, 0, 0, 2, 8, 0]\n",
      "[0, 0, 0, 4, 1, 9, 0, 0, 5]\n",
      "[0, 0, 2, 0, 8, 0, 0, 7, 9]\n"
     ]
    }
   ],
   "source": [
    "sudoku_matrix = generate_sudoku()\n",
    "\n",
    "if solve_puzzle(sudoku_matrix):\n",
    "    print(\"Sudoku puzzle solved using heuristic selection:\")\n",
    "    for row in sudoku_matrix:\n",
    "        print(row)\n",
    "else:\n",
    "    print(\"No solution exists for the Sudoku puzzle.\")\n"
   ]
  },
  {
   "cell_type": "markdown",
   "metadata": {},
   "source": [
    " #Sudoku puzzle using backtracking search with the LCV Heuristic"
   ]
  },
  {
   "cell_type": "markdown",
   "metadata": {},
   "source": [
    "LCV heuristic prioritizes selecting values for cells that impose the fewest constraints on other cells.\n",
    "Methodology\n",
    "The implemented solution consists of two main classes:\n",
    "\n",
    "SudokuSolver Class:\n",
    "\n",
    "compute_lcv_scores Method: Computes scores for each possible value based on the number of constraints imposed on a given cell by its row, column, and the 3x3 subgrid it belongs to.\n",
    "lcv_heuristic Method: Applies the LCV heuristic to select the next value for a given cell. It sorts the possible values for a cell based on the scores computed by compute_lcv_scores.\n",
    "solve_sudoku Method: Solves the Sudoku puzzle using backtracking search with LCV heuristic. It recursively fills empty cells with valid numbers based on the rules of Sudoku,\n",
    "check is_valid_move, is_valid_row, is_valid_col, is_valid_box Methods: Check the validity of placing a number in a cell, row, column, or 3x3 box.\n",
    "\n",
    "Summary of Calculation\n",
    "The MRV heuristic prioritizes selecting the next cell with the fewest remaining possible values, aiming to reduce the branching factor of the search tree.\n",
    "The LCV heuristic prioritizes selecting values for cells that impose the fewest constraints on other cells, aiming to minimize the chance of conflicts and reducing the search space.\n",
    "Conclusion\n",
    "The implemented algorithm efficiently solves Sudoku puzzles by combining backtracking search with MRV and LCV heuristics. These heuristics help guide the search towards the most promising solutions, reducing the computational effort required to find a solution."
   ]
  },
  {
   "cell_type": "code",
   "execution_count": 17,
   "metadata": {},
   "outputs": [],
   "source": [
    "\n",
    "def compute_lcv_scores(grid, row, col):\n",
    "    scores = {num: 0 for num in range(1, 10)}\n",
    "    \n",
    "    # Check row and column constraints\n",
    "    for i in range(9):\n",
    "        if grid[row][i] != 0:\n",
    "            scores[grid[row][i]] += 1\n",
    "        if grid[i][col] != 0:\n",
    "            scores[grid[i][col]] += 1\n",
    "\n",
    "    # Check 3x3 box constraint\n",
    "    start_row, start_col = 3 * (row // 3), 3 * (col // 3)\n",
    "    for i in range(start_row, start_row + 3):\n",
    "        for j in range(start_col, start_col + 3):\n",
    "            if grid[i][j] != 0:\n",
    "                scores[grid[i][j]] += 1\n",
    "    \n",
    "    return scores"
   ]
  },
  {
   "cell_type": "code",
   "execution_count": 18,
   "metadata": {},
   "outputs": [],
   "source": [
    "\n",
    "def lcv_heuristic(grid, row, col):\n",
    "    scores = compute_lcv_scores(grid, row, col)\n",
    "    sorted_values = sorted(scores.keys(), key=lambda x: scores[x])\n",
    "    return sorted_values"
   ]
  },
  {
   "cell_type": "code",
   "execution_count": 19,
   "metadata": {},
   "outputs": [],
   "source": [
    "def solve_sudoku(grid):\n",
    "    empty_cell = mrv_heuristic(grid)\n",
    "    if not empty_cell:\n",
    "        return True  \n",
    "    \n",
    "    row, col = empty_cell\n",
    "    for num in lcv_heuristic(grid, row, col):\n",
    "        if is_valid_move(grid, row, col, num):\n",
    "            grid[row][col] = num\n",
    "            if solve_sudoku(grid):\n",
    "                return True\n",
    "            grid[row][col] = 0\n",
    "    \n",
    "    return False  "
   ]
  },
  {
   "cell_type": "code",
   "execution_count": 20,
   "metadata": {},
   "outputs": [],
   "source": [
    "def mrv_heuristic(grid):\n",
    "    for i in range(9):\n",
    "        for j in range(9):\n",
    "            if grid[i][j] == 0:\n",
    "                return (i, j)\n",
    "    return None"
   ]
  },
  {
   "cell_type": "code",
   "execution_count": 21,
   "metadata": {},
   "outputs": [],
   "source": [
    "def is_valid_move(grid, row, col, num):\n",
    "    return is_valid_row(grid, row, num) and \\\n",
    "           is_valid_col(grid, col, num) and \\\n",
    "           is_valid_box(grid, row - row % 3, col - col % 3, num)\n",
    "\n",
    "def is_valid_row(grid, row, num):\n",
    "    return num not in grid[row]\n",
    "\n",
    "def is_valid_col(grid, col, num):\n",
    "    return num not in np.array(grid)[:, col]\n",
    "\n",
    "def is_valid_box(grid, start_row, start_col, num):\n",
    "    return num not in np.array(grid)[start_row:start_row + 3, start_col:start_col + 3]"
   ]
  },
  {
   "cell_type": "code",
   "execution_count": 22,
   "metadata": {},
   "outputs": [
    {
     "name": "stdout",
     "output_type": "stream",
     "text": [
      "Sudoku puzzle solved using LCV Heuristic:\n",
      "[5, 3, 4, 6, 7, 8, 9, 1, 2]\n",
      "[6, 7, 2, 1, 9, 5, 3, 4, 8]\n",
      "[1, 9, 8, 3, 4, 2, 5, 6, 7]\n",
      "[8, 5, 9, 7, 6, 1, 4, 2, 3]\n",
      "[4, 2, 6, 8, 5, 3, 7, 9, 1]\n",
      "[7, 1, 3, 9, 2, 4, 8, 5, 6]\n",
      "[9, 6, 1, 5, 3, 7, 2, 8, 4]\n",
      "[2, 8, 7, 4, 1, 9, 6, 3, 5]\n",
      "[3, 4, 5, 2, 8, 6, 1, 7, 9]\n"
     ]
    }
   ],
   "source": [
    "\n",
    "puzzle_data = generate_sudoku()\n",
    "if solve_sudoku(puzzle_data):\n",
    "    print(\"Sudoku puzzle solved using LCV Heuristic:\")\n",
    "    for row in puzzle_data:\n",
    "        print(row)\n",
    "else:\n",
    "    print(\"No solution exists for the Sudoku puzzle.\")\n"
   ]
  },
  {
   "cell_type": "markdown",
   "metadata": {},
   "source": [
    "#Sudoku Puzzle Solver with AC3 Algorithm"
   ]
  },
  {
   "cell_type": "markdown",
   "metadata": {},
   "source": [
    "The AC3 algorithm is a constraint satisfaction algorithm used to enforce arc consistency, which helps in reducing the search space and solving Sudoku puzzles efficiently.\n",
    "\n",
    "Methodology\n",
    "The implemented solution consists of the following components:\n",
    "\n",
    "SudokuSolver Class:\n",
    "\n",
    "solve_puzzle Method: Implements backtracking to solve the Sudoku puzzle.\n",
    "generate_valid_puzzle Method: Generates a valid Sudoku puzzle.\n",
    "apply_ac3 Method: Applies the AC3 algorithm to reduce the domains of variables by enforcing arc consistency.\n",
    "Main Function:\n",
    "\n",
    "Initializes the SudokuSolver object.\n",
    "Generates a valid Sudoku puzzle.\n",
    "Randomly removes numbers from the puzzle to create an initial puzzle state with empty cells.\n",
    "Applies the AC3 algorithm to reduce domains of variables.\n",
    "Solves the puzzle using backtracking with the AC3-preprocessed puzzle.\n",
    "Summary of AC3 Algorithm\n",
    "The AC3 algorithm aims to enforce arc consistency in the Sudoku puzzle by iteratively reducing the domains of variables (empty cells) based on constraint propagation. It initializes a queue with all arcs (pairs of variables connected by a constraint) in the puzzle and processes each arc, revising the domains of variables based on arc consistency. If a domain reduction occurs during revision, new arcs are added to the queue for further processing. This process continues until no further reductions are possible, ensuring that the puzzle's domains are reduced to the maximum extent possible while preserving consistency.\n",
    "\n",
    "Conclusion\n",
    "The implemented Sudoku puzzle solver with the AC3 algorithm efficiently solves Sudoku puzzles by reducing the search space through constraint propagation. By enforcing arc consistency, the solver optimizes the puzzle-solving process, leading to faster convergence towards a solution. The AC3 algorithm serves as a powerful tool for constraint satisfaction problems, offering a systematic approach to handle constraints and improve problem-solving efficiency."
   ]
  },
  {
   "cell_type": "code",
   "execution_count": 34,
   "metadata": {},
   "outputs": [],
   "source": [
    "def generate_valid_puzzle(puzzle):\n",
    "    puzzle = [\n",
    "    [5, 3, 0, 0, 7, 0, 0, 0, 0],\n",
    "    [6, 0, 0, 1, 9, 5, 0, 0, 0],\n",
    "    [0, 9, 8, 0, 0, 0, 0, 6, 0],\n",
    "    [8, 0, 0, 0, 6, 0, 0, 0, 3],\n",
    "    [4, 0, 0, 8, 0, 3, 0, 0, 1],\n",
    "    [7, 0, 0, 0, 2, 0, 0, 0, 6],\n",
    "    [0, 6, 0, 0, 0, 0, 2, 8, 0],\n",
    "    [0, 0, 0, 4, 1, 9, 0, 0, 5],\n",
    "    [0, 0, 0, 0, 8, 0, 0, 7, 9]\n",
    "    ]\n",
    "    return puzzle"
   ]
  },
  {
   "cell_type": "code",
   "execution_count": 35,
   "metadata": {},
   "outputs": [],
   "source": [
    "def is_valid_move(puzzle, row, col, num):\n",
    "    if num in puzzle[row] or num in puzzle[:, col]:\n",
    "        return False\n",
    "        \n",
    "        \n",
    "    start_row, start_col = 3 * (row // 3), 3 * (col // 3)\n",
    "    if np.any(puzzle[start_row:start_row+3, start_col:start_col+3] == num):\n",
    "        return False\n",
    "        \n",
    "    return True"
   ]
  },
  {
   "cell_type": "code",
   "execution_count": 36,
   "metadata": {},
   "outputs": [],
   "source": [
    "def get_empty_cell(puzzle):\n",
    "    empty_cells = np.argwhere(puzzle == 0)\n",
    "    if empty_cells.size == 0:\n",
    "        return -1, -1  # No empty cell found\n",
    "    else:\n",
    "        return tuple(empty_cells[0])\n",
    "\n",
    "    row, col = get_empty_cell(puzzle)\n",
    "    if row == -1 and col == -1:\n",
    "        return True  # Puzzle solved\n",
    "    \n",
    "    nums = random.sample(range(1, 10), 9)\n",
    "    for num in nums:\n",
    "        if is_valid_move(puzzle, row, col, num):\n",
    "            puzzle[row][col] = num\n",
    "            if solve_puzzle(puzzle):\n",
    "                return True\n",
    "            puzzle[row][col] = 0  # Backtrack\n",
    "    return False"
   ]
  },
  {
   "cell_type": "markdown",
   "metadata": {},
   "source": [
    "## Question-2"
   ]
  },
  {
   "cell_type": "markdown",
   "metadata": {},
   "source": [
    "#Applying genrative algoritm to find the Magic Square"
   ]
  },
  {
   "cell_type": "markdown",
   "metadata": {},
   "source": [
    "First of all generating a matrix of zeros and randomnly adding values\n",
    "\n",
    "in starting it creates 10 chromosomes\n",
    "\n",
    "After that it apply crossover on it to find the best solution\n",
    "\n",
    "then if the certain mutation rate is met it apply mutation on selected chromomes\n",
    "\n",
    "then check all for fitness function\n",
    "\n",
    "sort them in ascendidng order if the max value is greater than 8 it end\n",
    "\n",
    "otherwise it runs for a total of max population times\n"
   ]
  },
  {
   "cell_type": "code",
   "execution_count": 1,
   "metadata": {},
   "outputs": [],
   "source": [
    "# Importing libraries\n",
    "import numpy as np\n",
    "import random\n"
   ]
  },
  {
   "cell_type": "code",
   "execution_count": 2,
   "metadata": {},
   "outputs": [],
   "source": [
    "# funtion to check for number in grid\n",
    "def finder(grid,num):\n",
    "    for i in grid:\n",
    "        if (num == i):\n",
    "            return True\n",
    "    return False"
   ]
  },
  {
   "cell_type": "code",
   "execution_count": 3,
   "metadata": {},
   "outputs": [],
   "source": [
    "def evaluate_fitness(grid):\n",
    "    fitness=set()\n",
    "    rowsum=0\n",
    "    colsum=0\n",
    "    diagsum1=0\n",
    "    diagsum2=0\n",
    "    for arr in grid:\n",
    "        fitval=0\n",
    "        for j in range(0,3):\n",
    "            rowsum=np.sum([arr[j*3],arr[(j*3)+1],arr[(j*3)+2]])\n",
    "            colsum=np.sum([arr[j],arr[j+3],arr[j+6]])\n",
    "            flist=[rowsum,colsum]\n",
    "            for i in flist:\n",
    "                if(i==15):\n",
    "                    fitval+=1\n",
    "        diagsum1=arr[0]+arr[4]+arr[8]\n",
    "        diagsum2=arr[2]+arr[4]+arr[6]\n",
    "        if(diagsum1==15):\n",
    "            fitval+=1\n",
    "        if(diagsum2==15):\n",
    "            fitval+=1\n",
    "        fitness.add((fitval, tuple(arr)))\n",
    "    return fitness\n",
    "\n"
   ]
  },
  {
   "cell_type": "code",
   "execution_count": 4,
   "metadata": {},
   "outputs": [],
   "source": [
    "def magic_check(list):\n",
    "    count=0\n",
    "    for i in list:\n",
    "        count=0\n",
    "        for j in range(1,10):\n",
    "            if(i==j):\n",
    "                count+=1\n",
    "            if(count>0):\n",
    "                return False\n",
    "    return True"
   ]
  },
  {
   "cell_type": "code",
   "execution_count": 5,
   "metadata": {},
   "outputs": [],
   "source": [
    "\n",
    "def crossover(p1, p2):\n",
    "    size = len(p1)\n",
    "    points = sorted(np.random.choice(size, 2, replace=False))\n",
    "    c1 = [-1] * size\n",
    "    c2 = [-1] * size\n",
    "    c1[points[0]:points[1]] = p1[points[0]:points[1]]\n",
    "    c2[points[0]:points[1]] = p2[points[0]:points[1]]\n",
    "    remainingofp2 = [i for i in p2 if i not in c1[points[0]:points[1]]]\n",
    "    remainingofp1 = [i for i in p1 if i not in c2[points[0]:points[1]]]\n",
    "    j1 = points[1]\n",
    "    j2 = points[1]\n",
    "    for i in range(size):\n",
    "        if c1[(i + points[1]) % size] == -1:\n",
    "            c1[(i + points[1]) % size] = remainingofp2[j1 % len(remainingofp2)]\n",
    "            j1 += 1\n",
    "        if c2[(i + points[1]) % size] == -1:\n",
    "            c2[(i + points[1]) % size] = remainingofp1[j2 % len(remainingofp1)]\n",
    "            j2 += 1\n",
    "\n",
    "    return [c1, c2]"
   ]
  },
  {
   "cell_type": "code",
   "execution_count": 6,
   "metadata": {},
   "outputs": [],
   "source": [
    "def mutation(p):\n",
    "    size = len(p)\n",
    "    pos1, pos2 = random.sample(range(size), 2)\n",
    "    p[pos1], p[pos2] = p[pos2], p[pos1]\n",
    "    return p"
   ]
  },
  {
   "cell_type": "code",
   "execution_count": 13,
   "metadata": {},
   "outputs": [
    {
     "name": "stdout",
     "output_type": "stream",
     "text": [
      "max fitted :  8 (8, 3, 4, 1, 5, 9, 6, 7, 2)\n"
     ]
    }
   ],
   "source": [
    "#randomly generate a grid everytime we run the code\n",
    "tpop=[]\n",
    "mutRate=0.5\n",
    "pop_size=10\n",
    "max_pop=5000\n",
    "\n",
    "grid=np.zeros([pop_size,9],dtype=int)\n",
    "# making initial grid of size 10\n",
    "for i in range(pop_size):\n",
    "    for j in range(0,9):\n",
    "        num=random.randint(0, 9)\n",
    "        while(finder(grid[i],num)):\n",
    "            num=random.randint(0, 9)\n",
    "        grid[i][j]=num\n",
    "for i in grid:\n",
    "    tpop.append(tuple(i))\n",
    "\n",
    "\n",
    "while len(tpop)<max_pop:\n",
    "    \n",
    "    fitness=evaluate_fitness(tpop)\n",
    "    sorted_fitness = sorted(fitness, key=lambda x: x[0], reverse=True)\n",
    "    if sorted_fitness[0][0] == 9:\n",
    "        print(\"max : \",sorted_fitness[0][1])\n",
    "    for i in range(len(tpop)//2):\n",
    "        p1=sorted_fitness[i][1]\n",
    "        p2=random.choice(sorted_fitness)[1]\n",
    "        size=len(p1)-2\n",
    "        cp=random.randint(1,size)\n",
    "        lc=crossover(p1,p2)\n",
    "        ran = random.sample(range(len(tpop)),1)[0]\n",
    "        if random.random() < mutRate:\n",
    "            tpop[i] = mutation(list(tpop[ran]))\n",
    "        for i in lc:\n",
    "             tpop.append(i)\n",
    "    if(len(tpop)>=max_pop):\n",
    "        print(\"max fitted : \",sorted_fitness[0][0],sorted_fitness[0][1])\n",
    "        break\n"
   ]
  },
  {
   "cell_type": "code",
   "execution_count": null,
   "metadata": {},
   "outputs": [],
   "source": []
  }
 ],
 "metadata": {
  "kernelspec": {
   "display_name": "Python 3 (ipykernel)",
   "language": "python",
   "name": "python3"
  },
  "language_info": {
   "codemirror_mode": {
    "name": "ipython",
    "version": 3
   },
   "file_extension": ".py",
   "mimetype": "text/x-python",
   "name": "python",
   "nbconvert_exporter": "python",
   "pygments_lexer": "ipython3",
   "version": "3.11.5"
  }
 },
 "nbformat": 4,
 "nbformat_minor": 4
}
