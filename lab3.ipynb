{
 "cells": [
  {
   "cell_type": "markdown",
   "metadata": {
    "id": "w32FN9A4SRCr"
   },
   "source": [
    "**load a csv file**\n"
   ]
  },
  {
   "cell_type": "code",
   "execution_count": 45,
   "metadata": {
    "colab": {
     "base_uri": "https://localhost:8080/",
     "height": 597
    },
    "id": "YCZvalSBPDmJ",
    "outputId": "216e9b1b-d744-4a8c-9195-67bdcf0929eb"
   },
   "outputs": [
    {
     "data": {
      "text/plain": [
       "[<re.Match object; span=(0, 1), match='i'>]"
      ]
     },
     "execution_count": 45,
     "metadata": {},
     "output_type": "execute_result"
    }
   ],
   "source": [
    "import pandas as pd\n",
    "import numpy as np\n",
    "import re\n",
    "data = pd.read_csv(\"C:/Users/Talha/100 Biggest Companies.csv\")\n",
    "text='i have $10, $20'\n",
    "list=[]\n",
    "list.append(re.match(r'[a-z]+',text))\n",
    "list"
   ]
  },
  {
   "cell_type": "markdown",
   "metadata": {
    "id": "SbKytuM9S_HC"
   },
   "source": [
    "**retrieve detailed information about the columns in the DataFrame**\n",
    "**Retrieve the Name of the Company which has most number of Employees**"
   ]
  },
  {
   "cell_type": "code",
   "execution_count": 2,
   "metadata": {
    "colab": {
     "base_uri": "https://localhost:8080/",
     "height": 597
    },
    "id": "LZ4QvjirTZ4F",
    "outputId": "c04ee49e-be97-45c5-a5b8-b444aae2690e"
   },
   "outputs": [
    {
     "name": "stdout",
     "output_type": "stream",
     "text": [
      "   Rank     Name Industry  Revenue (USD millions)  Revenue growth (%)  \\\n",
      "0     1  Walmart   Retail                  611289                 6.7   \n",
      "\n",
      "   Employees           Headquarters  \n",
      "0    2100000  Bentonville, Arkansas  \n"
     ]
    }
   ],
   "source": [
    "compdf=pd.DataFrame(data)\n",
    "index_col=['Rank']\n",
    "val=compdf['Employees'].max()\n",
    "print(compdf[compdf['Employees']>=val])"
   ]
  },
  {
   "cell_type": "markdown",
   "metadata": {
    "id": "lI5VDUg8Tbc4"
   },
   "source": [
    "**Find the company with the highest revenue growth percentage**"
   ]
  },
  {
   "cell_type": "code",
   "execution_count": 3,
   "metadata": {
    "id": "9T5l_qmFT3o-"
   },
   "outputs": [
    {
     "data": {
      "text/html": [
       "<div>\n",
       "<style scoped>\n",
       "    .dataframe tbody tr th:only-of-type {\n",
       "        vertical-align: middle;\n",
       "    }\n",
       "\n",
       "    .dataframe tbody tr th {\n",
       "        vertical-align: top;\n",
       "    }\n",
       "\n",
       "    .dataframe thead th {\n",
       "        text-align: right;\n",
       "    }\n",
       "</style>\n",
       "<table border=\"1\" class=\"dataframe\">\n",
       "  <thead>\n",
       "    <tr style=\"text-align: right;\">\n",
       "      <th></th>\n",
       "      <th>Rank</th>\n",
       "      <th>Name</th>\n",
       "      <th>Industry</th>\n",
       "      <th>Revenue (USD millions)</th>\n",
       "      <th>Revenue growth (%)</th>\n",
       "      <th>Employees</th>\n",
       "      <th>Headquarters</th>\n",
       "    </tr>\n",
       "  </thead>\n",
       "  <tbody>\n",
       "    <tr>\n",
       "      <th>65</th>\n",
       "      <td>66</td>\n",
       "      <td>TD Synnex</td>\n",
       "      <td>Infotech</td>\n",
       "      <td>62344</td>\n",
       "      <td>97.2</td>\n",
       "      <td>28500</td>\n",
       "      <td>Clearwater, Florida</td>\n",
       "    </tr>\n",
       "  </tbody>\n",
       "</table>\n",
       "</div>"
      ],
      "text/plain": [
       "    Rank       Name  Industry  Revenue (USD millions)  Revenue growth (%)  \\\n",
       "65    66  TD Synnex  Infotech                   62344                97.2   \n",
       "\n",
       "    Employees         Headquarters  \n",
       "65      28500  Clearwater, Florida  "
      ]
     },
     "execution_count": 3,
     "metadata": {},
     "output_type": "execute_result"
    }
   ],
   "source": [
    "comprg = compdf.sort_values(by='Revenue growth (%)', ascending=False)\n",
    "comprg.head(1)"
   ]
  },
  {
   "cell_type": "markdown",
   "metadata": {
    "id": "CiX-xI1eTtMJ"
   },
   "source": [
    "**Retrieve the top 5 Companies which have the highest Revenue**"
   ]
  },
  {
   "cell_type": "code",
   "execution_count": 4,
   "metadata": {
    "id": "INbFVgxaUDBh"
   },
   "outputs": [
    {
     "data": {
      "text/plain": [
       "0               Walmart\n",
       "1                Amazon\n",
       "2           Exxon Mobil\n",
       "3                 Apple\n",
       "4    UnitedHealth Group\n",
       "Name: Name, dtype: object"
      ]
     },
     "execution_count": 4,
     "metadata": {},
     "output_type": "execute_result"
    }
   ],
   "source": [
    "comp = compdf.sort_values(by='Revenue (USD millions)', ascending=False)['Name']\n",
    "comp.head(5)"
   ]
  },
  {
   "cell_type": "markdown",
   "metadata": {
    "id": "9YhxwpADUEbj"
   },
   "source": [
    "**Calculate the total revenue generated by all the companies in the data set.**"
   ]
  },
  {
   "cell_type": "code",
   "execution_count": 130,
   "metadata": {
    "id": "KeYSw52GUWNS"
   },
   "outputs": [
    {
     "data": {
      "text/plain": [
       "11756646"
      ]
     },
     "execution_count": 130,
     "metadata": {},
     "output_type": "execute_result"
    }
   ],
   "source": [
    "compdf['Revenue (USD millions)'].sum()"
   ]
  },
  {
   "cell_type": "markdown",
   "metadata": {
    "id": "xL46l6tHnbv0"
   },
   "source": [
    "**Create a 7x4 Numpy array filled with random numbers and a nan value in each column.**\n",
    "Perform following operations on it:\n",
    "* Find maximum value of each row and column\n",
    "* Find minimum value of each row and column\n",
    "* Find sum of each row and column\n",
    "* Fill nan value in column 3 with minimum value of the column\n",
    "* Fill nan value in column 3 with mean of the column"
   ]
  },
  {
   "cell_type": "code",
   "execution_count": 131,
   "metadata": {
    "id": "xTWeIvDrnu-K"
   },
   "outputs": [],
   "source": [
    "import numpy as np"
   ]
  },
  {
   "cell_type": "code",
   "execution_count": 164,
   "metadata": {
    "id": "YWldm-h6nvXe"
   },
   "outputs": [
    {
     "data": {
      "text/plain": [
       "array([[ 2.,  4.,  5., nan],\n",
       "       [ 3.,  6.,  4.,  5.],\n",
       "       [ 7., nan,  9.,  3.],\n",
       "       [nan,  2.,  6.,  8.],\n",
       "       [ 3.,  6.,  6.,  1.],\n",
       "       [ 2.,  0., nan,  6.],\n",
       "       [ 3.,  9.,  6.,  9.]])"
      ]
     },
     "execution_count": 164,
     "metadata": {},
     "output_type": "execute_result"
    }
   ],
   "source": [
    "array=np.array(\n",
    "    [[2,4,5,np.nan],\n",
    "    [3,6,4,5],\n",
    "    [7,np.nan,9,3],\n",
    "    [np.nan,2,6,8],\n",
    "    [3,6,6,1],\n",
    "    [2,0,np.nan,6],\n",
    "    [3,9,6,9],\n",
    "    ])\n",
    "array"
   ]
  },
  {
   "cell_type": "code",
   "execution_count": 165,
   "metadata": {
    "id": "_vaXQFKPnvgI"
   },
   "outputs": [
    {
     "name": "stdout",
     "output_type": "stream",
     "text": [
      "row max\n",
      "\n",
      "5.0\n",
      "6.0\n",
      "9.0\n",
      "8.0\n",
      "6.0\n",
      "6.0\n",
      "9.0\n",
      "\n",
      "\n",
      "column max\n",
      "\n",
      "7.0\n",
      "9.0\n",
      "9.0\n",
      "9.0\n",
      "---------------------\n",
      "row min\n",
      "\n",
      "2.0\n",
      "3.0\n",
      "3.0\n",
      "2.0\n",
      "1.0\n",
      "0.0\n",
      "3.0\n",
      "\n",
      "\n",
      "column min\n",
      "\n",
      "2.0\n",
      "0.0\n",
      "4.0\n",
      "1.0\n",
      "---------------------\n",
      "row sum\n",
      "\n",
      "11.0\n",
      "18.0\n",
      "19.0\n",
      "16.0\n",
      "16.0\n",
      "8.0\n",
      "27.0\n",
      "\n",
      "\n",
      "column sum\n",
      "\n",
      "20.0\n",
      "27.0\n",
      "36.0\n",
      "32.0\n",
      "column 3 after minimum value insertion: [1. 5. 3. 8. 1. 6. 9.]\n",
      "\n",
      "column 3 after mean value insertion: [4.71428571 5.         3.         8.         1.         6.\n",
      " 9.        ]\n",
      "\n"
     ]
    }
   ],
   "source": [
    "x,y=array.shape\n",
    "print('row max\\n')\n",
    "maxr1=[]\n",
    "for i in range(x):\n",
    "    max=np.nanmax(array[i])\n",
    "    maxr1.append(maxr1)\n",
    "    print(max)\n",
    "    \n",
    "print('\\n')\n",
    "maxc1=[]\n",
    "print('column max\\n')\n",
    "for i in range(y):\n",
    "    max=np.nanmax(array[:, i])\n",
    "    maxc1.append(max)\n",
    "    print(max)\n",
    "\n",
    "print(\"---------------------\")\n",
    "\n",
    "print('row min\\n')\n",
    "minr1=[]\n",
    "for i in range(x):\n",
    "    max=np.nanmin(array[i])\n",
    "    minr1.append(maxr1)\n",
    "    print(max)\n",
    "    \n",
    "print('\\n')\n",
    "minc1=[]\n",
    "\n",
    "print('column min\\n')\n",
    "for i in range(y):\n",
    "    max=np.nanmin(array[:, i])\n",
    "    minc1.append(max)\n",
    "    print(max)\n",
    "\n",
    "print(\"---------------------\")\n",
    "print('row sum\\n')\n",
    "sumr1=[]\n",
    "for i in range(x):\n",
    "    max=np.nansum(array[i])\n",
    "    sumr1.append(maxr1)\n",
    "    print(max)\n",
    "    \n",
    "print('\\n')\n",
    "sumc1=[]\n",
    "print('column sum\\n')\n",
    "\n",
    "for i in range(y):\n",
    "    max=np.nansum(array[:, i])\n",
    "    sumc1.append(max)\n",
    "    print(max)\n",
    "\n",
    "index=array[:,3].argmax()\n",
    "array[index]=minc1[3]\n",
    "print(f\"column 3 after minimum value insertion: {array[:,3]}\\n\") \n",
    "\n",
    "mean=array[:,3].mean()\n",
    "array[index]=mean\n",
    "print(f\"column 3 after mean value insertion: {array[:,3]}\\n\") "
   ]
  },
  {
   "cell_type": "markdown",
   "metadata": {
    "id": "8TFEMFIMnv4R"
   },
   "source": [
    "**Using the above dataset draw following plots:**\n",
    "* Which companies have the highest revenue? Show the top 10 using a bar plot\n",
    "* Plot the revenue growth percentage of each company over the years. Use Line plot."
   ]
  },
  {
   "cell_type": "code",
   "execution_count": 190,
   "metadata": {
    "id": "_l5XDgk4oCHm"
   },
   "outputs": [
    {
     "data": {
      "text/plain": [
       "Text(0.5, 0, 'Name')"
      ]
     },
     "execution_count": 190,
     "metadata": {},
     "output_type": "execute_result"
    },
    {
     "data": {
      "image/png": "[encoded data removed]",
      "text/plain": [
       "<Figure size 1600x900 with 1 Axes>"
      ]
     },
     "metadata": {},
     "output_type": "display_data"
    }
   ],
   "source": [
    "import matplotlib.pyplot as plt\n",
    "compr=comp.head(10)\n",
    "plt.figure(figsize=(16,9))\n",
    "plt.barh(compr['Name'],compr['Revenue (USD millions)'])\n",
    "plt.ylabel('Revenue (Million)')\n",
    "plt.xlabel('Name')\n"
   ]
  },
  {
   "cell_type": "code",
   "execution_count": 218,
   "metadata": {},
   "outputs": [
    {
     "data": {
      "image/png": "[encoded data removed]",
      "text/plain": [
       "<Figure size 640x480 with 1 Axes>"
      ]
     },
     "metadata": {},
     "output_type": "display_data"
    }
   ],
   "source": [
    "comprg=comprg.head(10)\n",
    "years = [2015, 2016, 2017, 2018, 2019, 2020, 2021]\n",
    "plt.plot(years, comprg['Revenue growth (%)'], marker='o', color='b', linestyle='-', label='Company 1')\n",
    "plt.plot(years, comprg['Revenue growth (%)'], marker='o', color='r', linestyle='-', label='Company 2')\n",
    "\n",
    "plt.ylabel('Revenue Growth')\n",
    "plt.xlabel('Year')\n",
    "\n",
    "plt.legend()\n",
    "plt.show()"
   ]
  },
  {
   "cell_type": "code",
   "execution_count": null,
   "metadata": {},
   "outputs": [],
   "source": []
  },
  {
   "cell_type": "code",
   "execution_count": null,
   "metadata": {},
   "outputs": [],
   "source": []
  }
 ],
 "metadata": {
  "colab": {
   "provenance": []
  },
  "kernelspec": {
   "display_name": "Python 3 (ipykernel)",
   "language": "python",
   "name": "python3"
  },
  "language_info": {
   "codemirror_mode": {
    "name": "ipython",
    "version": 3
   },
   "file_extension": ".py",
   "mimetype": "text/x-python",
   "name": "python",
   "nbconvert_exporter": "python",
   "pygments_lexer": "ipython3",
   "version": "3.11.5"
  }
 },
 "nbformat": 4,
 "nbformat_minor": 4
}
