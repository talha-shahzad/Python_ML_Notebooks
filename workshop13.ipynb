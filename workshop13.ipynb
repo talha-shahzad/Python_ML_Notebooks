{
 "cells": [
  {
   "cell_type": "code",
   "execution_count": 1,
   "id": "72e7c287-2320-4e57-af5c-aafec4acc73f",
   "metadata": {},
   "outputs": [
    {
     "name": "stderr",
     "output_type": "stream",
     "text": [
      "WARNING (theano.tensor.blas): Using NumPy C-API based implementation for BLAS functions.\n"
     ]
    }
   ],
   "source": [
    "import pymc3 as pm\n",
    "import numpy as np\n",
    "import matplotlib.pyplot as plt"
   ]
  },
  {
   "cell_type": "code",
   "execution_count": 2,
   "id": "a862f44e-e649-4caa-90b1-616a848b41e0",
   "metadata": {},
   "outputs": [],
   "source": [
    "np.random.seed(42)\n",
    "X = np.random.rand(100,1)\n",
    "true_slope=5\n",
    "true_intercept=2\n",
    "noise=np.random.normal(0,1,size=(100,1))\n",
    "y=true_intercept + true_slope * X + noise"
   ]
  },
  {
   "cell_type": "code",
   "execution_count": 3,
   "id": "26aeda70-446f-4944-8fa4-04461970e27b",
   "metadata": {},
   "outputs": [
    {
     "name": "stdout",
     "output_type": "stream",
     "text": [
      "\n",
      "You can find the C code in this temporary file: C:\\Users\\Talha\\AppData\\Local\\Temp\\theano_compilation_error_r8pr6m5d\n"
     ]
    },
    {
     "ename": "Exception",
     "evalue": "('Compilation failed (return status=1): C:\\\\Users\\\\Talha\\\\AppData\\\\Local\\\\Theano\\\\compiledir_Windows-10-10.0.19045-SP0-Intel64_Family_6_Model_61_Stepping_4_GenuineIntel-3.10.13-64\\\\tmpnk_ubtvd\\\\mod.cpp:1:0: sorry, unimplemented: 64-bit mode not compiled in\\r.  #include <Python.h>\\r.  \\r. ', 'FunctionGraph(Elemwise{true_div,no_inplace}(TensorConstant{1.0}, TensorConstant{0.01}))')",
     "output_type": "error",
     "traceback": [
      "\u001b[1;31m---------------------------------------------------------------------------\u001b[0m",
      "\u001b[1;31mException\u001b[0m                                 Traceback (most recent call last)",
      "Cell \u001b[1;32mIn[3], line 2\u001b[0m\n\u001b[0;32m      1\u001b[0m \u001b[38;5;28;01mwith\u001b[39;00m pm\u001b[38;5;241m.\u001b[39mModel() \u001b[38;5;28;01mas\u001b[39;00m linear_model:\n\u001b[1;32m----> 2\u001b[0m     slope\u001b[38;5;241m=\u001b[39m\u001b[43mpm\u001b[49m\u001b[38;5;241;43m.\u001b[39;49m\u001b[43mNormal\u001b[49m\u001b[43m(\u001b[49m\u001b[38;5;124;43m'\u001b[39;49m\u001b[38;5;124;43mslope\u001b[39;49m\u001b[38;5;124;43m'\u001b[39;49m\u001b[43m,\u001b[49m\u001b[43m \u001b[49m\u001b[43mmu\u001b[49m\u001b[38;5;241;43m=\u001b[39;49m\u001b[38;5;241;43m0\u001b[39;49m\u001b[43m,\u001b[49m\u001b[43m \u001b[49m\u001b[43msd\u001b[49m\u001b[38;5;241;43m=\u001b[39;49m\u001b[38;5;241;43m10\u001b[39;49m\u001b[43m)\u001b[49m\n\u001b[0;32m      3\u001b[0m     intercept\u001b[38;5;241m=\u001b[39mpm\u001b[38;5;241m.\u001b[39mNormal(\u001b[38;5;124m'\u001b[39m\u001b[38;5;124mintercept\u001b[39m\u001b[38;5;124m'\u001b[39m,mu\u001b[38;5;241m=\u001b[39m\u001b[38;5;241m0\u001b[39m,sd\u001b[38;5;241m=\u001b[39m\u001b[38;5;241m10\u001b[39m)\n\u001b[0;32m      4\u001b[0m     mu\u001b[38;5;241m=\u001b[39mintercept \u001b[38;5;241m+\u001b[39m slope \u001b[38;5;241m*\u001b[39m X\n",
      "File \u001b[1;32m~\\anaconda3\\envs\\pm3bap\\lib\\site-packages\\pymc3\\distributions\\distribution.py:121\u001b[0m, in \u001b[0;36mDistribution.__new__\u001b[1;34m(cls, name, *args, **kwargs)\u001b[0m\n\u001b[0;32m    119\u001b[0m     dist \u001b[38;5;241m=\u001b[39m \u001b[38;5;28mcls\u001b[39m\u001b[38;5;241m.\u001b[39mdist(\u001b[38;5;241m*\u001b[39margs, \u001b[38;5;241m*\u001b[39m\u001b[38;5;241m*\u001b[39mkwargs, shape\u001b[38;5;241m=\u001b[39mshape)\n\u001b[0;32m    120\u001b[0m \u001b[38;5;28;01melse\u001b[39;00m:\n\u001b[1;32m--> 121\u001b[0m     dist \u001b[38;5;241m=\u001b[39m \u001b[38;5;28mcls\u001b[39m\u001b[38;5;241m.\u001b[39mdist(\u001b[38;5;241m*\u001b[39margs, \u001b[38;5;241m*\u001b[39m\u001b[38;5;241m*\u001b[39mkwargs)\n\u001b[0;32m    122\u001b[0m \u001b[38;5;28;01mreturn\u001b[39;00m model\u001b[38;5;241m.\u001b[39mVar(name, dist, data, total_size, dims\u001b[38;5;241m=\u001b[39mdims)\n",
      "File \u001b[1;32m~\\anaconda3\\envs\\pm3bap\\lib\\site-packages\\pymc3\\distributions\\distribution.py:130\u001b[0m, in \u001b[0;36mDistribution.dist\u001b[1;34m(cls, *args, **kwargs)\u001b[0m\n\u001b[0;32m    127\u001b[0m \u001b[38;5;129m@classmethod\u001b[39m\n\u001b[0;32m    128\u001b[0m \u001b[38;5;28;01mdef\u001b[39;00m \u001b[38;5;21mdist\u001b[39m(\u001b[38;5;28mcls\u001b[39m, \u001b[38;5;241m*\u001b[39margs, \u001b[38;5;241m*\u001b[39m\u001b[38;5;241m*\u001b[39mkwargs):\n\u001b[0;32m    129\u001b[0m     dist \u001b[38;5;241m=\u001b[39m \u001b[38;5;28mobject\u001b[39m\u001b[38;5;241m.\u001b[39m\u001b[38;5;21m__new__\u001b[39m(\u001b[38;5;28mcls\u001b[39m)\n\u001b[1;32m--> 130\u001b[0m     dist\u001b[38;5;241m.\u001b[39m\u001b[38;5;21m__init__\u001b[39m(\u001b[38;5;241m*\u001b[39margs, \u001b[38;5;241m*\u001b[39m\u001b[38;5;241m*\u001b[39mkwargs)\n\u001b[0;32m    131\u001b[0m     \u001b[38;5;28;01mreturn\u001b[39;00m dist\n",
      "File \u001b[1;32m~\\anaconda3\\envs\\pm3bap\\lib\\site-packages\\pymc3\\distributions\\continuous.py:488\u001b[0m, in \u001b[0;36mNormal.__init__\u001b[1;34m(self, mu, sigma, tau, sd, **kwargs)\u001b[0m\n\u001b[0;32m    485\u001b[0m \u001b[38;5;28mself\u001b[39m\u001b[38;5;241m.\u001b[39mtau \u001b[38;5;241m=\u001b[39m tt\u001b[38;5;241m.\u001b[39mas_tensor_variable(tau)\n\u001b[0;32m    487\u001b[0m \u001b[38;5;28mself\u001b[39m\u001b[38;5;241m.\u001b[39mmean \u001b[38;5;241m=\u001b[39m \u001b[38;5;28mself\u001b[39m\u001b[38;5;241m.\u001b[39mmedian \u001b[38;5;241m=\u001b[39m \u001b[38;5;28mself\u001b[39m\u001b[38;5;241m.\u001b[39mmode \u001b[38;5;241m=\u001b[39m \u001b[38;5;28mself\u001b[39m\u001b[38;5;241m.\u001b[39mmu \u001b[38;5;241m=\u001b[39m mu \u001b[38;5;241m=\u001b[39m tt\u001b[38;5;241m.\u001b[39mas_tensor_variable(floatX(mu))\n\u001b[1;32m--> 488\u001b[0m \u001b[38;5;28mself\u001b[39m\u001b[38;5;241m.\u001b[39mvariance \u001b[38;5;241m=\u001b[39m \u001b[38;5;241;43m1.0\u001b[39;49m\u001b[43m \u001b[49m\u001b[38;5;241;43m/\u001b[39;49m\u001b[43m \u001b[49m\u001b[38;5;28;43mself\u001b[39;49m\u001b[38;5;241;43m.\u001b[39;49m\u001b[43mtau\u001b[49m\n\u001b[0;32m    490\u001b[0m assert_negative_support(sigma, \u001b[38;5;124m\"\u001b[39m\u001b[38;5;124msigma\u001b[39m\u001b[38;5;124m\"\u001b[39m, \u001b[38;5;124m\"\u001b[39m\u001b[38;5;124mNormal\u001b[39m\u001b[38;5;124m\"\u001b[39m)\n\u001b[0;32m    491\u001b[0m assert_negative_support(tau, \u001b[38;5;124m\"\u001b[39m\u001b[38;5;124mtau\u001b[39m\u001b[38;5;124m\"\u001b[39m, \u001b[38;5;124m\"\u001b[39m\u001b[38;5;124mNormal\u001b[39m\u001b[38;5;124m\"\u001b[39m)\n",
      "File \u001b[1;32m~\\anaconda3\\envs\\pm3bap\\lib\\site-packages\\theano\\tensor\\var.py:176\u001b[0m, in \u001b[0;36m_tensor_py_operators.__rtruediv__\u001b[1;34m(self, other)\u001b[0m\n\u001b[0;32m    175\u001b[0m \u001b[38;5;28;01mdef\u001b[39;00m \u001b[38;5;21m__rtruediv__\u001b[39m(\u001b[38;5;28mself\u001b[39m, other):\n\u001b[1;32m--> 176\u001b[0m     \u001b[38;5;28;01mreturn\u001b[39;00m \u001b[43mtheano\u001b[49m\u001b[38;5;241;43m.\u001b[39;49m\u001b[43mtensor\u001b[49m\u001b[38;5;241;43m.\u001b[39;49m\u001b[43mbasic\u001b[49m\u001b[38;5;241;43m.\u001b[39;49m\u001b[43mtrue_div\u001b[49m\u001b[43m(\u001b[49m\u001b[43mother\u001b[49m\u001b[43m,\u001b[49m\u001b[43m \u001b[49m\u001b[38;5;28;43mself\u001b[39;49m\u001b[43m)\u001b[49m\n",
      "File \u001b[1;32m~\\anaconda3\\envs\\pm3bap\\lib\\site-packages\\theano\\graph\\op.py:253\u001b[0m, in \u001b[0;36mOp.__call__\u001b[1;34m(self, *inputs, **kwargs)\u001b[0m\n\u001b[0;32m    250\u001b[0m node \u001b[38;5;241m=\u001b[39m \u001b[38;5;28mself\u001b[39m\u001b[38;5;241m.\u001b[39mmake_node(\u001b[38;5;241m*\u001b[39minputs, \u001b[38;5;241m*\u001b[39m\u001b[38;5;241m*\u001b[39mkwargs)\n\u001b[0;32m    252\u001b[0m \u001b[38;5;28;01mif\u001b[39;00m config\u001b[38;5;241m.\u001b[39mcompute_test_value \u001b[38;5;241m!=\u001b[39m \u001b[38;5;124m\"\u001b[39m\u001b[38;5;124moff\u001b[39m\u001b[38;5;124m\"\u001b[39m:\n\u001b[1;32m--> 253\u001b[0m     \u001b[43mcompute_test_value\u001b[49m\u001b[43m(\u001b[49m\u001b[43mnode\u001b[49m\u001b[43m)\u001b[49m\n\u001b[0;32m    255\u001b[0m \u001b[38;5;28;01mif\u001b[39;00m \u001b[38;5;28mself\u001b[39m\u001b[38;5;241m.\u001b[39mdefault_output \u001b[38;5;129;01mis\u001b[39;00m \u001b[38;5;129;01mnot\u001b[39;00m \u001b[38;5;28;01mNone\u001b[39;00m:\n\u001b[0;32m    256\u001b[0m     rval \u001b[38;5;241m=\u001b[39m node\u001b[38;5;241m.\u001b[39moutputs[\u001b[38;5;28mself\u001b[39m\u001b[38;5;241m.\u001b[39mdefault_output]\n",
      "File \u001b[1;32m~\\anaconda3\\envs\\pm3bap\\lib\\site-packages\\theano\\graph\\op.py:126\u001b[0m, in \u001b[0;36mcompute_test_value\u001b[1;34m(node)\u001b[0m\n\u001b[0;32m    123\u001b[0m     compute_map[o] \u001b[38;5;241m=\u001b[39m [\u001b[38;5;28;01mFalse\u001b[39;00m]\n\u001b[0;32m    125\u001b[0m \u001b[38;5;66;03m# Create a thunk that performs the computation\u001b[39;00m\n\u001b[1;32m--> 126\u001b[0m thunk \u001b[38;5;241m=\u001b[39m \u001b[43mnode\u001b[49m\u001b[38;5;241;43m.\u001b[39;49m\u001b[43mop\u001b[49m\u001b[38;5;241;43m.\u001b[39;49m\u001b[43mmake_thunk\u001b[49m\u001b[43m(\u001b[49m\u001b[43mnode\u001b[49m\u001b[43m,\u001b[49m\u001b[43m \u001b[49m\u001b[43mstorage_map\u001b[49m\u001b[43m,\u001b[49m\u001b[43m \u001b[49m\u001b[43mcompute_map\u001b[49m\u001b[43m,\u001b[49m\u001b[43m \u001b[49m\u001b[43mno_recycling\u001b[49m\u001b[38;5;241;43m=\u001b[39;49m\u001b[43m[\u001b[49m\u001b[43m]\u001b[49m\u001b[43m)\u001b[49m\n\u001b[0;32m    127\u001b[0m thunk\u001b[38;5;241m.\u001b[39minputs \u001b[38;5;241m=\u001b[39m [storage_map[v] \u001b[38;5;28;01mfor\u001b[39;00m v \u001b[38;5;129;01min\u001b[39;00m node\u001b[38;5;241m.\u001b[39minputs]\n\u001b[0;32m    128\u001b[0m thunk\u001b[38;5;241m.\u001b[39moutputs \u001b[38;5;241m=\u001b[39m [storage_map[v] \u001b[38;5;28;01mfor\u001b[39;00m v \u001b[38;5;129;01min\u001b[39;00m node\u001b[38;5;241m.\u001b[39moutputs]\n",
      "File \u001b[1;32m~\\anaconda3\\envs\\pm3bap\\lib\\site-packages\\theano\\graph\\op.py:634\u001b[0m, in \u001b[0;36mCOp.make_thunk\u001b[1;34m(self, node, storage_map, compute_map, no_recycling, impl)\u001b[0m\n\u001b[0;32m    630\u001b[0m \u001b[38;5;28mself\u001b[39m\u001b[38;5;241m.\u001b[39mprepare_node(\n\u001b[0;32m    631\u001b[0m     node, storage_map\u001b[38;5;241m=\u001b[39mstorage_map, compute_map\u001b[38;5;241m=\u001b[39mcompute_map, impl\u001b[38;5;241m=\u001b[39m\u001b[38;5;124m\"\u001b[39m\u001b[38;5;124mc\u001b[39m\u001b[38;5;124m\"\u001b[39m\n\u001b[0;32m    632\u001b[0m )\n\u001b[0;32m    633\u001b[0m \u001b[38;5;28;01mtry\u001b[39;00m:\n\u001b[1;32m--> 634\u001b[0m     \u001b[38;5;28;01mreturn\u001b[39;00m \u001b[38;5;28;43mself\u001b[39;49m\u001b[38;5;241;43m.\u001b[39;49m\u001b[43mmake_c_thunk\u001b[49m\u001b[43m(\u001b[49m\u001b[43mnode\u001b[49m\u001b[43m,\u001b[49m\u001b[43m \u001b[49m\u001b[43mstorage_map\u001b[49m\u001b[43m,\u001b[49m\u001b[43m \u001b[49m\u001b[43mcompute_map\u001b[49m\u001b[43m,\u001b[49m\u001b[43m \u001b[49m\u001b[43mno_recycling\u001b[49m\u001b[43m)\u001b[49m\n\u001b[0;32m    635\u001b[0m \u001b[38;5;28;01mexcept\u001b[39;00m (\u001b[38;5;167;01mNotImplementedError\u001b[39;00m, MethodNotDefined):\n\u001b[0;32m    636\u001b[0m     \u001b[38;5;66;03m# We requested the c code, so don't catch the error.\u001b[39;00m\n\u001b[0;32m    637\u001b[0m     \u001b[38;5;28;01mif\u001b[39;00m impl \u001b[38;5;241m==\u001b[39m \u001b[38;5;124m\"\u001b[39m\u001b[38;5;124mc\u001b[39m\u001b[38;5;124m\"\u001b[39m:\n",
      "File \u001b[1;32m~\\anaconda3\\envs\\pm3bap\\lib\\site-packages\\theano\\graph\\op.py:600\u001b[0m, in \u001b[0;36mCOp.make_c_thunk\u001b[1;34m(self, node, storage_map, compute_map, no_recycling)\u001b[0m\n\u001b[0;32m    598\u001b[0m         \u001b[38;5;28mprint\u001b[39m(\u001b[38;5;124mf\u001b[39m\u001b[38;5;124m\"\u001b[39m\u001b[38;5;124mDisabling C code for \u001b[39m\u001b[38;5;132;01m{\u001b[39;00m\u001b[38;5;28mself\u001b[39m\u001b[38;5;132;01m}\u001b[39;00m\u001b[38;5;124m due to unsupported float16\u001b[39m\u001b[38;5;124m\"\u001b[39m)\n\u001b[0;32m    599\u001b[0m         \u001b[38;5;28;01mraise\u001b[39;00m \u001b[38;5;167;01mNotImplementedError\u001b[39;00m(\u001b[38;5;124m\"\u001b[39m\u001b[38;5;124mfloat16\u001b[39m\u001b[38;5;124m\"\u001b[39m)\n\u001b[1;32m--> 600\u001b[0m outputs \u001b[38;5;241m=\u001b[39m \u001b[43mcl\u001b[49m\u001b[38;5;241;43m.\u001b[39;49m\u001b[43mmake_thunk\u001b[49m\u001b[43m(\u001b[49m\n\u001b[0;32m    601\u001b[0m \u001b[43m    \u001b[49m\u001b[43minput_storage\u001b[49m\u001b[38;5;241;43m=\u001b[39;49m\u001b[43mnode_input_storage\u001b[49m\u001b[43m,\u001b[49m\u001b[43m \u001b[49m\u001b[43moutput_storage\u001b[49m\u001b[38;5;241;43m=\u001b[39;49m\u001b[43mnode_output_storage\u001b[49m\n\u001b[0;32m    602\u001b[0m \u001b[43m\u001b[49m\u001b[43m)\u001b[49m\n\u001b[0;32m    603\u001b[0m thunk, node_input_filters, node_output_filters \u001b[38;5;241m=\u001b[39m outputs\n\u001b[0;32m    605\u001b[0m \u001b[38;5;28;01mdef\u001b[39;00m \u001b[38;5;21mrval\u001b[39m():\n",
      "File \u001b[1;32m~\\anaconda3\\envs\\pm3bap\\lib\\site-packages\\theano\\link\\c\\basic.py:1203\u001b[0m, in \u001b[0;36mCLinker.make_thunk\u001b[1;34m(self, input_storage, output_storage, storage_map)\u001b[0m\n\u001b[0;32m   1175\u001b[0m \u001b[38;5;250m\u001b[39m\u001b[38;5;124;03m\"\"\"\u001b[39;00m\n\u001b[0;32m   1176\u001b[0m \u001b[38;5;124;03mCompiles this linker's fgraph and returns a function to perform the\u001b[39;00m\n\u001b[0;32m   1177\u001b[0m \u001b[38;5;124;03mcomputations, as well as lists of storage cells for both the inputs\u001b[39;00m\n\u001b[1;32m   (...)\u001b[0m\n\u001b[0;32m   1200\u001b[0m \u001b[38;5;124;03m  first_output = ostor[0].data\u001b[39;00m\n\u001b[0;32m   1201\u001b[0m \u001b[38;5;124;03m\"\"\"\u001b[39;00m\n\u001b[0;32m   1202\u001b[0m init_tasks, tasks \u001b[38;5;241m=\u001b[39m \u001b[38;5;28mself\u001b[39m\u001b[38;5;241m.\u001b[39mget_init_tasks()\n\u001b[1;32m-> 1203\u001b[0m cthunk, module, in_storage, out_storage, error_storage \u001b[38;5;241m=\u001b[39m \u001b[38;5;28;43mself\u001b[39;49m\u001b[38;5;241;43m.\u001b[39;49m\u001b[43m__compile__\u001b[49m\u001b[43m(\u001b[49m\n\u001b[0;32m   1204\u001b[0m \u001b[43m    \u001b[49m\u001b[43minput_storage\u001b[49m\u001b[43m,\u001b[49m\u001b[43m \u001b[49m\u001b[43moutput_storage\u001b[49m\u001b[43m,\u001b[49m\u001b[43m \u001b[49m\u001b[43mstorage_map\u001b[49m\n\u001b[0;32m   1205\u001b[0m \u001b[43m\u001b[49m\u001b[43m)\u001b[49m\n\u001b[0;32m   1207\u001b[0m res \u001b[38;5;241m=\u001b[39m _CThunk(cthunk, init_tasks, tasks, error_storage, module)\n\u001b[0;32m   1208\u001b[0m res\u001b[38;5;241m.\u001b[39mnodes \u001b[38;5;241m=\u001b[39m \u001b[38;5;28mself\u001b[39m\u001b[38;5;241m.\u001b[39mnode_order\n",
      "File \u001b[1;32m~\\anaconda3\\envs\\pm3bap\\lib\\site-packages\\theano\\link\\c\\basic.py:1138\u001b[0m, in \u001b[0;36mCLinker.__compile__\u001b[1;34m(self, input_storage, output_storage, storage_map)\u001b[0m\n\u001b[0;32m   1136\u001b[0m input_storage \u001b[38;5;241m=\u001b[39m \u001b[38;5;28mtuple\u001b[39m(input_storage)\n\u001b[0;32m   1137\u001b[0m output_storage \u001b[38;5;241m=\u001b[39m \u001b[38;5;28mtuple\u001b[39m(output_storage)\n\u001b[1;32m-> 1138\u001b[0m thunk, module \u001b[38;5;241m=\u001b[39m \u001b[38;5;28;43mself\u001b[39;49m\u001b[38;5;241;43m.\u001b[39;49m\u001b[43mcthunk_factory\u001b[49m\u001b[43m(\u001b[49m\n\u001b[0;32m   1139\u001b[0m \u001b[43m    \u001b[49m\u001b[43merror_storage\u001b[49m\u001b[43m,\u001b[49m\n\u001b[0;32m   1140\u001b[0m \u001b[43m    \u001b[49m\u001b[43minput_storage\u001b[49m\u001b[43m,\u001b[49m\n\u001b[0;32m   1141\u001b[0m \u001b[43m    \u001b[49m\u001b[43moutput_storage\u001b[49m\u001b[43m,\u001b[49m\n\u001b[0;32m   1142\u001b[0m \u001b[43m    \u001b[49m\u001b[43mstorage_map\u001b[49m\u001b[43m,\u001b[49m\n\u001b[0;32m   1143\u001b[0m \u001b[43m\u001b[49m\u001b[43m)\u001b[49m\n\u001b[0;32m   1144\u001b[0m \u001b[38;5;28;01mreturn\u001b[39;00m (\n\u001b[0;32m   1145\u001b[0m     thunk,\n\u001b[0;32m   1146\u001b[0m     module,\n\u001b[1;32m   (...)\u001b[0m\n\u001b[0;32m   1155\u001b[0m     error_storage,\n\u001b[0;32m   1156\u001b[0m )\n",
      "File \u001b[1;32m~\\anaconda3\\envs\\pm3bap\\lib\\site-packages\\theano\\link\\c\\basic.py:1634\u001b[0m, in \u001b[0;36mCLinker.cthunk_factory\u001b[1;34m(self, error_storage, in_storage, out_storage, storage_map)\u001b[0m\n\u001b[0;32m   1632\u001b[0m     \u001b[38;5;28;01mfor\u001b[39;00m node \u001b[38;5;129;01min\u001b[39;00m \u001b[38;5;28mself\u001b[39m\u001b[38;5;241m.\u001b[39mnode_order:\n\u001b[0;32m   1633\u001b[0m         node\u001b[38;5;241m.\u001b[39mop\u001b[38;5;241m.\u001b[39mprepare_node(node, storage_map, \u001b[38;5;28;01mNone\u001b[39;00m, \u001b[38;5;124m\"\u001b[39m\u001b[38;5;124mc\u001b[39m\u001b[38;5;124m\"\u001b[39m)\n\u001b[1;32m-> 1634\u001b[0m     module \u001b[38;5;241m=\u001b[39m \u001b[43mget_module_cache\u001b[49m\u001b[43m(\u001b[49m\u001b[43m)\u001b[49m\u001b[38;5;241;43m.\u001b[39;49m\u001b[43mmodule_from_key\u001b[49m\u001b[43m(\u001b[49m\u001b[43mkey\u001b[49m\u001b[38;5;241;43m=\u001b[39;49m\u001b[43mkey\u001b[49m\u001b[43m,\u001b[49m\u001b[43m \u001b[49m\u001b[43mlnk\u001b[49m\u001b[38;5;241;43m=\u001b[39;49m\u001b[38;5;28;43mself\u001b[39;49m\u001b[43m)\u001b[49m\n\u001b[0;32m   1636\u001b[0m \u001b[38;5;28mvars\u001b[39m \u001b[38;5;241m=\u001b[39m \u001b[38;5;28mself\u001b[39m\u001b[38;5;241m.\u001b[39minputs \u001b[38;5;241m+\u001b[39m \u001b[38;5;28mself\u001b[39m\u001b[38;5;241m.\u001b[39moutputs \u001b[38;5;241m+\u001b[39m \u001b[38;5;28mself\u001b[39m\u001b[38;5;241m.\u001b[39morphans\n\u001b[0;32m   1637\u001b[0m \u001b[38;5;66;03m# List of indices that should be ignored when passing the arguments\u001b[39;00m\n\u001b[0;32m   1638\u001b[0m \u001b[38;5;66;03m# (basically, everything that the previous call to uniq eliminated)\u001b[39;00m\n",
      "File \u001b[1;32m~\\anaconda3\\envs\\pm3bap\\lib\\site-packages\\theano\\link\\c\\cmodule.py:1191\u001b[0m, in \u001b[0;36mModuleCache.module_from_key\u001b[1;34m(self, key, lnk)\u001b[0m\n\u001b[0;32m   1189\u001b[0m \u001b[38;5;28;01mtry\u001b[39;00m:\n\u001b[0;32m   1190\u001b[0m     location \u001b[38;5;241m=\u001b[39m dlimport_workdir(\u001b[38;5;28mself\u001b[39m\u001b[38;5;241m.\u001b[39mdirname)\n\u001b[1;32m-> 1191\u001b[0m     module \u001b[38;5;241m=\u001b[39m \u001b[43mlnk\u001b[49m\u001b[38;5;241;43m.\u001b[39;49m\u001b[43mcompile_cmodule\u001b[49m\u001b[43m(\u001b[49m\u001b[43mlocation\u001b[49m\u001b[43m)\u001b[49m\n\u001b[0;32m   1192\u001b[0m     name \u001b[38;5;241m=\u001b[39m module\u001b[38;5;241m.\u001b[39m\u001b[38;5;18m__file__\u001b[39m\n\u001b[0;32m   1193\u001b[0m     \u001b[38;5;28;01massert\u001b[39;00m name\u001b[38;5;241m.\u001b[39mstartswith(location)\n",
      "File \u001b[1;32m~\\anaconda3\\envs\\pm3bap\\lib\\site-packages\\theano\\link\\c\\basic.py:1543\u001b[0m, in \u001b[0;36mCLinker.compile_cmodule\u001b[1;34m(self, location)\u001b[0m\n\u001b[0;32m   1541\u001b[0m \u001b[38;5;28;01mtry\u001b[39;00m:\n\u001b[0;32m   1542\u001b[0m     _logger\u001b[38;5;241m.\u001b[39mdebug(\u001b[38;5;124mf\u001b[39m\u001b[38;5;124m\"\u001b[39m\u001b[38;5;124mLOCATION \u001b[39m\u001b[38;5;132;01m{\u001b[39;00mlocation\u001b[38;5;132;01m}\u001b[39;00m\u001b[38;5;124m\"\u001b[39m)\n\u001b[1;32m-> 1543\u001b[0m     module \u001b[38;5;241m=\u001b[39m \u001b[43mc_compiler\u001b[49m\u001b[38;5;241;43m.\u001b[39;49m\u001b[43mcompile_str\u001b[49m\u001b[43m(\u001b[49m\n\u001b[0;32m   1544\u001b[0m \u001b[43m        \u001b[49m\u001b[43mmodule_name\u001b[49m\u001b[38;5;241;43m=\u001b[39;49m\u001b[43mmod\u001b[49m\u001b[38;5;241;43m.\u001b[39;49m\u001b[43mcode_hash\u001b[49m\u001b[43m,\u001b[49m\n\u001b[0;32m   1545\u001b[0m \u001b[43m        \u001b[49m\u001b[43msrc_code\u001b[49m\u001b[38;5;241;43m=\u001b[39;49m\u001b[43msrc_code\u001b[49m\u001b[43m,\u001b[49m\n\u001b[0;32m   1546\u001b[0m \u001b[43m        \u001b[49m\u001b[43mlocation\u001b[49m\u001b[38;5;241;43m=\u001b[39;49m\u001b[43mlocation\u001b[49m\u001b[43m,\u001b[49m\n\u001b[0;32m   1547\u001b[0m \u001b[43m        \u001b[49m\u001b[43minclude_dirs\u001b[49m\u001b[38;5;241;43m=\u001b[39;49m\u001b[38;5;28;43mself\u001b[39;49m\u001b[38;5;241;43m.\u001b[39;49m\u001b[43mheader_dirs\u001b[49m\u001b[43m(\u001b[49m\u001b[43m)\u001b[49m\u001b[43m,\u001b[49m\n\u001b[0;32m   1548\u001b[0m \u001b[43m        \u001b[49m\u001b[43mlib_dirs\u001b[49m\u001b[38;5;241;43m=\u001b[39;49m\u001b[38;5;28;43mself\u001b[39;49m\u001b[38;5;241;43m.\u001b[39;49m\u001b[43mlib_dirs\u001b[49m\u001b[43m(\u001b[49m\u001b[43m)\u001b[49m\u001b[43m,\u001b[49m\n\u001b[0;32m   1549\u001b[0m \u001b[43m        \u001b[49m\u001b[43mlibs\u001b[49m\u001b[38;5;241;43m=\u001b[39;49m\u001b[43mlibs\u001b[49m\u001b[43m,\u001b[49m\n\u001b[0;32m   1550\u001b[0m \u001b[43m        \u001b[49m\u001b[43mpreargs\u001b[49m\u001b[38;5;241;43m=\u001b[39;49m\u001b[43mpreargs\u001b[49m\u001b[43m,\u001b[49m\n\u001b[0;32m   1551\u001b[0m \u001b[43m    \u001b[49m\u001b[43m)\u001b[49m\n\u001b[0;32m   1552\u001b[0m \u001b[38;5;28;01mexcept\u001b[39;00m \u001b[38;5;167;01mException\u001b[39;00m \u001b[38;5;28;01mas\u001b[39;00m e:\n\u001b[0;32m   1553\u001b[0m     e\u001b[38;5;241m.\u001b[39margs \u001b[38;5;241m+\u001b[39m\u001b[38;5;241m=\u001b[39m (\u001b[38;5;28mstr\u001b[39m(\u001b[38;5;28mself\u001b[39m\u001b[38;5;241m.\u001b[39mfgraph),)\n",
      "File \u001b[1;32m~\\anaconda3\\envs\\pm3bap\\lib\\site-packages\\theano\\link\\c\\cmodule.py:2546\u001b[0m, in \u001b[0;36mGCC_compiler.compile_str\u001b[1;34m(module_name, src_code, location, include_dirs, lib_dirs, libs, preargs, py_module, hide_symbols)\u001b[0m\n\u001b[0;32m   2542\u001b[0m     \u001b[38;5;66;03m# We replace '\\n' by '. ' in the error message because when Python\u001b[39;00m\n\u001b[0;32m   2543\u001b[0m     \u001b[38;5;66;03m# prints the exception, having '\\n' in the text makes it more\u001b[39;00m\n\u001b[0;32m   2544\u001b[0m     \u001b[38;5;66;03m# difficult to read.\u001b[39;00m\n\u001b[0;32m   2545\u001b[0m     compile_stderr \u001b[38;5;241m=\u001b[39m compile_stderr\u001b[38;5;241m.\u001b[39mreplace(\u001b[38;5;124m\"\u001b[39m\u001b[38;5;130;01m\\n\u001b[39;00m\u001b[38;5;124m\"\u001b[39m, \u001b[38;5;124m\"\u001b[39m\u001b[38;5;124m. \u001b[39m\u001b[38;5;124m\"\u001b[39m)\n\u001b[1;32m-> 2546\u001b[0m     \u001b[38;5;28;01mraise\u001b[39;00m \u001b[38;5;167;01mException\u001b[39;00m(\n\u001b[0;32m   2547\u001b[0m         \u001b[38;5;124mf\u001b[39m\u001b[38;5;124m\"\u001b[39m\u001b[38;5;124mCompilation failed (return status=\u001b[39m\u001b[38;5;132;01m{\u001b[39;00mstatus\u001b[38;5;132;01m}\u001b[39;00m\u001b[38;5;124m): \u001b[39m\u001b[38;5;132;01m{\u001b[39;00mcompile_stderr\u001b[38;5;132;01m}\u001b[39;00m\u001b[38;5;124m\"\u001b[39m\n\u001b[0;32m   2548\u001b[0m     )\n\u001b[0;32m   2549\u001b[0m \u001b[38;5;28;01melif\u001b[39;00m config\u001b[38;5;241m.\u001b[39mcmodule__compilation_warning \u001b[38;5;129;01mand\u001b[39;00m compile_stderr:\n\u001b[0;32m   2550\u001b[0m     \u001b[38;5;66;03m# Print errors just below the command line.\u001b[39;00m\n\u001b[0;32m   2551\u001b[0m     \u001b[38;5;28mprint\u001b[39m(compile_stderr)\n",
      "\u001b[1;31mException\u001b[0m: ('Compilation failed (return status=1): C:\\\\Users\\\\Talha\\\\AppData\\\\Local\\\\Theano\\\\compiledir_Windows-10-10.0.19045-SP0-Intel64_Family_6_Model_61_Stepping_4_GenuineIntel-3.10.13-64\\\\tmpnk_ubtvd\\\\mod.cpp:1:0: sorry, unimplemented: 64-bit mode not compiled in\\r.  #include <Python.h>\\r.  \\r. ', 'FunctionGraph(Elemwise{true_div,no_inplace}(TensorConstant{1.0}, TensorConstant{0.01}))')"
     ]
    }
   ],
   "source": [
    "with pm.Model() as linear_model:\n",
    "    slope=pm.Normal('slope', mu=0, sd=10)\n",
    "    intercept=pm.Normal('intercept',mu=0,sd=10)\n",
    "    mu=intercept + slope * X\n",
    "    likelihood = pm.Normal('y',mu=mu,sd=1,observed=y)"
   ]
  },
  {
   "cell_type": "code",
   "execution_count": null,
   "id": "1279f624-ef9b-4e93-b89d-d9f1a7a09883",
   "metadata": {},
   "outputs": [],
   "source": [
    "with linear_model:\n",
    "    trace=pm.sample(2000, tune=1000)"
   ]
  },
  {
   "cell_type": "code",
   "execution_count": null,
   "id": "bf2568d2-2ada-4e91-80b8-c114ca5e8dd1",
   "metadata": {},
   "outputs": [],
   "source": [
    "pm.traceplot(trace)\n",
    "plt.show()"
   ]
  },
  {
   "cell_type": "code",
   "execution_count": null,
   "id": "3c3c4a3d-3ee5-4548-825f-536d54bc3205",
   "metadata": {},
   "outputs": [],
   "source": [
    "X_new = np.linspace(0,10,100)[:,None]\n",
    "\n",
    "with linear_model:\n",
    "    posterior_preds = pm.sample_posterior_predictive(trace, 100, random_seed=42)\n",
    "    y_pred=posterior_preds['y'].mean(axis=0)"
   ]
  },
  {
   "cell_type": "code",
   "execution_count": null,
   "id": "5656e661-96b4-4732-b732-74e549e9fe7c",
   "metadata": {},
   "outputs": [],
   "source": [
    "plt.scatter(X,y,label='Treu data')\n",
    "plt.plot(X_new, y_pred,color='red', label='posterior')\n",
    "plt.xlabel('X')\n",
    "plt.ylabel('Y')\n",
    "plt.legend()\n",
    "plt.show()"
   ]
  },
  {
   "cell_type": "code",
   "execution_count": null,
   "id": "4333acc9-954d-4ef0-a3d2-179e84449185",
   "metadata": {},
   "outputs": [],
   "source": []
  }
 ],
 "metadata": {
  "kernelspec": {
   "display_name": "Python 3 (ipykernel)",
   "language": "python",
   "name": "python3"
  },
  "language_info": {
   "codemirror_mode": {
    "name": "ipython",
    "version": 3
   },
   "file_extension": ".py",
   "mimetype": "text/x-python",
   "name": "python",
   "nbconvert_exporter": "python",
   "pygments_lexer": "ipython3",
   "version": "3.10.13"
  }
 },
 "nbformat": 4,
 "nbformat_minor": 5
}
