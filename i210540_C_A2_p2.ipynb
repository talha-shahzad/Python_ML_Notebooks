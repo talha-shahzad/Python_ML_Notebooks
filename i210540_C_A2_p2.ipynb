{
 "cells": [
  {
   "cell_type": "markdown",
   "id": "fcd55fac-6f7a-4ba8-9c12-9cf02fd830e2",
   "metadata": {},
   "source": [
    "# Artificial Intelligence\n",
    "# Talha Shahzad\n",
    "# Section C\n",
    "# 21i-0540\n",
    "# Assignment # 2\n"
   ]
  },
  {
   "cell_type": "code",
   "execution_count": 1,
   "id": "d743957b-0cc3-4ed2-a983-f8f4654be196",
   "metadata": {},
   "outputs": [],
   "source": [
    "# Importing libraries\n",
    "import numpy as np\n",
    "import random\n"
   ]
  },
  {
   "cell_type": "code",
   "execution_count": 2,
   "id": "cff3f11c-1fe9-46ea-8675-3ab5f88c92f7",
   "metadata": {},
   "outputs": [],
   "source": [
    "# funtion to check for number in grid\n",
    "def finder(grid,num):\n",
    "    for i in grid:\n",
    "        if (num == i):\n",
    "            return True\n",
    "    return False"
   ]
  },
  {
   "cell_type": "code",
   "execution_count": 3,
   "id": "736238d1-e391-4cd7-88b0-5b3137ad0ddb",
   "metadata": {},
   "outputs": [],
   "source": [
    "def evaluate_fitness(grid):\n",
    "    fitness=set()\n",
    "    rowsum=0\n",
    "    colsum=0\n",
    "    diagsum1=0\n",
    "    diagsum2=0\n",
    "    for arr in grid:\n",
    "        fitval=0\n",
    "        for j in range(0,3):\n",
    "            rowsum=np.sum([arr[j*3],arr[(j*3)+1],arr[(j*3)+2]])\n",
    "            colsum=np.sum([arr[j],arr[j+3],arr[j+6]])\n",
    "            flist=[rowsum,colsum]\n",
    "            for i in flist:\n",
    "                if(i==15):\n",
    "                    fitval+=1\n",
    "        diagsum1=arr[0]+arr[4]+arr[8]\n",
    "        diagsum2=arr[2]+arr[4]+arr[6]\n",
    "        if(diagsum1==15):\n",
    "            fitval+=1\n",
    "        if(diagsum2==15):\n",
    "            fitval+=1\n",
    "        fitness.add((fitval, tuple(arr)))\n",
    "    return fitness\n",
    "\n"
   ]
  },
  {
   "cell_type": "code",
   "execution_count": 4,
   "id": "9ff67bb0-7eb9-44ff-b567-ac8b9c27f164",
   "metadata": {},
   "outputs": [],
   "source": [
    "def magic_check(list):\n",
    "    count=0\n",
    "    for i in list:\n",
    "        count=0\n",
    "        for j in range(1,10):\n",
    "            if(i==j):\n",
    "                count+=1\n",
    "            if(count>0):\n",
    "                return False\n",
    "    return True"
   ]
  },
  {
   "cell_type": "code",
   "execution_count": 5,
   "id": "4f6df64a-0b8e-4e9f-912b-7fcd95b05435",
   "metadata": {},
   "outputs": [],
   "source": [
    "\n",
    "def crossover(p1, p2):\n",
    "    size = len(p1)\n",
    "    points = sorted(np.random.choice(size, 2, replace=False))\n",
    "    c1 = [-1] * size\n",
    "    c2 = [-1] * size\n",
    "    c1[points[0]:points[1]] = p1[points[0]:points[1]]\n",
    "    c2[points[0]:points[1]] = p2[points[0]:points[1]]\n",
    "    remainingofp2 = [i for i in p2 if i not in c1[points[0]:points[1]]]\n",
    "    remainingofp1 = [i for i in p1 if i not in c2[points[0]:points[1]]]\n",
    "    j1 = points[1]\n",
    "    j2 = points[1]\n",
    "    for i in range(size):\n",
    "        if c1[(i + points[1]) % size] == -1:\n",
    "            c1[(i + points[1]) % size] = remainingofp2[j1 % len(remainingofp2)]\n",
    "            j1 += 1\n",
    "        if c2[(i + points[1]) % size] == -1:\n",
    "            c2[(i + points[1]) % size] = remainingofp1[j2 % len(remainingofp1)]\n",
    "            j2 += 1\n",
    "\n",
    "    return [c1, c2]"
   ]
  },
  {
   "cell_type": "code",
   "execution_count": 6,
   "id": "341fd08a-7e3b-4b8f-a7bc-50e9d56ccd9a",
   "metadata": {},
   "outputs": [],
   "source": [
    "def mutation(p):\n",
    "    size = len(p)\n",
    "    pos1, pos2 = random.sample(range(size), 2)\n",
    "    p[pos1], p[pos2] = p[pos2], p[pos1]\n",
    "    return p"
   ]
  },
  {
   "cell_type": "code",
   "execution_count": 8,
   "id": "06d5c418-14e4-467f-8cc2-26989863ce91",
   "metadata": {},
   "outputs": [
    {
     "name": "stdout",
     "output_type": "stream",
     "text": [
      "max fitted :  8 (4, 3, 8, 9, 5, 1, 2, 7, 6)\n"
     ]
    }
   ],
   "source": [
    "#randomly generate a grid everytime we run the code\n",
    "tpop=[]\n",
    "mutRate=0.1\n",
    "pop_size=10\n",
    "max_pop=6000\n",
    "\n",
    "grid=np.zeros([pop_size,9],dtype=int)\n",
    "# making initial grid of size 10\n",
    "for i in range(pop_size):\n",
    "    for j in range(0,9):\n",
    "        num=random.randint(0, 9)\n",
    "        while(finder(grid[i],num)):\n",
    "            num=random.randint(0, 9)\n",
    "        grid[i][j]=num\n",
    "for i in grid:\n",
    "    tpop.append(tuple(i))\n",
    "\n",
    "\n",
    "while len(tpop)<max_pop:\n",
    "    \n",
    "    fitness=evaluate_fitness(tpop)\n",
    "    sorted_fitness = sorted(fitness, key=lambda x: x[0], reverse=True)\n",
    "    if sorted_fitness[0][0] == 9:\n",
    "        print(\"max : \",sorted_fitness[0][1])\n",
    "    for i in range(len(tpop)//2):\n",
    "        p1=sorted_fitness[i][1]\n",
    "        p2=random.choice(sorted_fitness)[1]\n",
    "        size=len(p1)-2\n",
    "        cp=random.randint(1,size)\n",
    "        lc=crossover(p1,p2)\n",
    "        ran = random.sample(range(len(tpop)),1)[0]\n",
    "        for i in range(ran):\n",
    "            if random.random() < mutRate:\n",
    "                tpop[i] = mutation(list(tpop[i]))\n",
    "        for i in lc:\n",
    "             tpop.append(i)\n",
    "    if(len(tpop)>=max_pop):\n",
    "        print(\"max fitted : \",sorted_fitness[0][0],sorted_fitness[0][1])\n",
    "        break\n"
   ]
  },
  {
   "cell_type": "code",
   "execution_count": null,
   "id": "73d37ac4-2787-4fa7-bec7-903808a53647",
   "metadata": {},
   "outputs": [],
   "source": []
  }
 ],
 "metadata": {
  "kernelspec": {
   "display_name": "Python 3 (ipykernel)",
   "language": "python",
   "name": "python3"
  },
  "language_info": {
   "codemirror_mode": {
    "name": "ipython",
    "version": 3
   },
   "file_extension": ".py",
   "mimetype": "text/x-python",
   "name": "python",
   "nbconvert_exporter": "python",
   "pygments_lexer": "ipython3",
   "version": "3.11.5"
  }
 },
 "nbformat": 4,
 "nbformat_minor": 5
}
