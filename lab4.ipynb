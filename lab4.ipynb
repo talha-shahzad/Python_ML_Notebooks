{
 "cells": [
  {
   "cell_type": "markdown",
   "id": "67fc0293-d76b-44f7-8414-63185d69707c",
   "metadata": {},
   "source": [
    "# Task 1"
   ]
  },
  {
   "cell_type": "code",
   "execution_count": 9,
   "id": "fa2b5375-1c13-4386-ba86-e34f3de5352d",
   "metadata": {},
   "outputs": [],
   "source": [
    "import numpy as np\n",
    "import math as mt"
   ]
  },
  {
   "cell_type": "code",
   "execution_count": 10,
   "id": "079a6f8d-ccda-4b57-99ca-8edf06481908",
   "metadata": {},
   "outputs": [],
   "source": [
    "def eucdist(nlocx,nlocy):\n",
    "    if((nlocx>=0 and nlocy>=0) and (nlocx<5 and nlocy<5)):\n",
    "        dif=mt.pow(percept.destx-nlocx,2)+mt.pow(percept.desty-nlocy,2)\n",
    "        dist=mt.sqrt(dif)\n",
    "    else:\n",
    "        dist=99999.00\n",
    "    return dist"
   ]
  },
  {
   "cell_type": "code",
   "execution_count": 11,
   "id": "f56a0156-24ed-47b4-9ee4-cc8b7051939e",
   "metadata": {},
   "outputs": [],
   "source": [
    "class Percept:\n",
    "    def __init__(self,startx,starty,destx,desty,grid):\n",
    "        self.locx=startx\n",
    "        self.locy=starty\n",
    "        self.destx=destx\n",
    "        self.desty=desty\n",
    "        self.grid=grid"
   ]
  },
  {
   "cell_type": "code",
   "execution_count": 12,
   "id": "1f24d0e4-e305-4162-bdca-83aef20436f0",
   "metadata": {},
   "outputs": [],
   "source": [
    "def nextLocations(locx, grid):\n",
    "    next = []\n",
    "    rows = 5\n",
    "    cols = 5\n",
    "    movements = [(1, 0), (-1, 0), (0, 1), (0, -1)]\n",
    "    for delta in movements:\n",
    "        r = locx[0] + delta[0]\n",
    "        c = locy[1] + delta[1]\n",
    "        if ((0 <= r < rows) and (0 <= c < cols) and (grid[r][c] != '1')):\n",
    "            next.append((r, c))\n",
    "    return next"
   ]
  },
  {
   "cell_type": "code",
   "execution_count": 5,
   "id": "fd177da0-c88d-436f-a77a-a996d9486f48",
   "metadata": {},
   "outputs": [],
   "source": [
    "\n",
    "def greedy_search(percept):\n",
    "    openList = [(percept.locx, percept.locy)] \n",
    "    closeList = set()  \n",
    "    while openList:\n",
    "        current_node = openList.pop(0)\n",
    "        if percept.grid[current_node[0]][current_node[1]] == 'D':  \n",
    "            print(\"Reached destination at location\", current_node)\n",
    "            return percept\n",
    "\n",
    "        closed_list.add(current_node)  \n",
    "\n",
    "        for adjacent in nextLocations(current_node, percept.grid):\n",
    "            if adjacent not in closed_list and adjacent not in open_list:\n",
    "                open_list.append(neighbor)  \n",
    "                \n",
    "        open_list.sort(key=lambda x: heuristic(x, (percept.destx, percept.desty)))\n",
    "\n",
    "        next_node = open_list[0]\n",
    "        percept.locx, percept.locy = next_node\n",
    "        print(\"Moving to location\", percept.locx, percept.locy)\n",
    "\n",
    "    print(\"No path found.\")\n",
    "    return percept\n"
   ]
  },
  {
   "cell_type": "code",
   "execution_count": 7,
   "id": "86396f1a-bec8-4799-9af4-d0a99302e990",
   "metadata": {},
   "outputs": [
    {
     "ename": "NameError",
     "evalue": "name 'get_neighbors' is not defined",
     "output_type": "error",
     "traceback": [
      "\u001b[1;31m---------------------------------------------------------------------------\u001b[0m",
      "\u001b[1;31mNameError\u001b[0m                                 Traceback (most recent call last)",
      "Cell \u001b[1;32mIn[7], line 7\u001b[0m\n\u001b[0;32m      1\u001b[0m warehouse\u001b[38;5;241m=\u001b[39mnp\u001b[38;5;241m.\u001b[39marray([[\u001b[38;5;124m'\u001b[39m\u001b[38;5;124mS\u001b[39m\u001b[38;5;124m'\u001b[39m,\u001b[38;5;124m'\u001b[39m\u001b[38;5;124m \u001b[39m\u001b[38;5;124m'\u001b[39m,\u001b[38;5;124m'\u001b[39m\u001b[38;5;124m \u001b[39m\u001b[38;5;124m'\u001b[39m,\u001b[38;5;124m'\u001b[39m\u001b[38;5;124m \u001b[39m\u001b[38;5;124m'\u001b[39m,\u001b[38;5;124m'\u001b[39m\u001b[38;5;124m-\u001b[39m\u001b[38;5;124m'\u001b[39m],\n\u001b[0;32m      2\u001b[0m                     [\u001b[38;5;124m'\u001b[39m\u001b[38;5;124m-\u001b[39m\u001b[38;5;124m'\u001b[39m,\u001b[38;5;124m'\u001b[39m\u001b[38;5;124m \u001b[39m\u001b[38;5;124m'\u001b[39m,\u001b[38;5;124m'\u001b[39m\u001b[38;5;124m \u001b[39m\u001b[38;5;124m'\u001b[39m,\u001b[38;5;124m'\u001b[39m\u001b[38;5;124m \u001b[39m\u001b[38;5;124m'\u001b[39m,\u001b[38;5;124m'\u001b[39m\u001b[38;5;124m-\u001b[39m\u001b[38;5;124m'\u001b[39m],\n\u001b[0;32m      3\u001b[0m                     [\u001b[38;5;124m'\u001b[39m\u001b[38;5;124m \u001b[39m\u001b[38;5;124m'\u001b[39m,\u001b[38;5;124m'\u001b[39m\u001b[38;5;124m-\u001b[39m\u001b[38;5;124m'\u001b[39m,\u001b[38;5;124m'\u001b[39m\u001b[38;5;124m \u001b[39m\u001b[38;5;124m'\u001b[39m,\u001b[38;5;124m'\u001b[39m\u001b[38;5;124m \u001b[39m\u001b[38;5;124m'\u001b[39m,\u001b[38;5;124m'\u001b[39m\u001b[38;5;124m \u001b[39m\u001b[38;5;124m'\u001b[39m],\n\u001b[0;32m      4\u001b[0m                     [\u001b[38;5;124m'\u001b[39m\u001b[38;5;124m \u001b[39m\u001b[38;5;124m'\u001b[39m,\u001b[38;5;124m'\u001b[39m\u001b[38;5;124m \u001b[39m\u001b[38;5;124m'\u001b[39m,\u001b[38;5;124m'\u001b[39m\u001b[38;5;124m \u001b[39m\u001b[38;5;124m'\u001b[39m,\u001b[38;5;124m'\u001b[39m\u001b[38;5;124m-\u001b[39m\u001b[38;5;124m'\u001b[39m,\u001b[38;5;124m'\u001b[39m\u001b[38;5;124m \u001b[39m\u001b[38;5;124m'\u001b[39m],\n\u001b[0;32m      5\u001b[0m                     [\u001b[38;5;124m'\u001b[39m\u001b[38;5;124m-\u001b[39m\u001b[38;5;124m'\u001b[39m,\u001b[38;5;124m'\u001b[39m\u001b[38;5;124m \u001b[39m\u001b[38;5;124m'\u001b[39m,\u001b[38;5;124m'\u001b[39m\u001b[38;5;124m \u001b[39m\u001b[38;5;124m'\u001b[39m,\u001b[38;5;124m'\u001b[39m\u001b[38;5;124mD\u001b[39m\u001b[38;5;124m'\u001b[39m,\u001b[38;5;124m'\u001b[39m\u001b[38;5;124m-\u001b[39m\u001b[38;5;124m'\u001b[39m]])\n\u001b[0;32m      6\u001b[0m percept\u001b[38;5;241m=\u001b[39mPercept(\u001b[38;5;241m0\u001b[39m,\u001b[38;5;241m0\u001b[39m,\u001b[38;5;241m4\u001b[39m,\u001b[38;5;241m3\u001b[39m,warehouse)\n\u001b[1;32m----> 7\u001b[0m \u001b[43mgreedy_search\u001b[49m\u001b[43m(\u001b[49m\u001b[43mpercept\u001b[49m\u001b[43m)\u001b[49m\n\u001b[0;32m      8\u001b[0m \u001b[38;5;28mprint\u001b[39m(\u001b[38;5;124m\"\u001b[39m\u001b[38;5;130;01m\\n\u001b[39;00m\u001b[38;5;124mYou Reached at destination \u001b[39m\u001b[38;5;130;01m\\n\u001b[39;00m\u001b[38;5;124m\"\u001b[39m)\n",
      "Cell \u001b[1;32mIn[5], line 20\u001b[0m, in \u001b[0;36mgreedy_search\u001b[1;34m(percept)\u001b[0m\n\u001b[0;32m     16\u001b[0m     \u001b[38;5;28;01mreturn\u001b[39;00m percept\n\u001b[0;32m     18\u001b[0m closed_list\u001b[38;5;241m.\u001b[39madd(current_node)  \n\u001b[1;32m---> 20\u001b[0m \u001b[38;5;28;01mfor\u001b[39;00m neighbor \u001b[38;5;129;01min\u001b[39;00m \u001b[43mget_neighbors\u001b[49m(current_node[\u001b[38;5;241m0\u001b[39m], current_node[\u001b[38;5;241m1\u001b[39m], percept\u001b[38;5;241m.\u001b[39menv):\n\u001b[0;32m     21\u001b[0m     \u001b[38;5;28;01mif\u001b[39;00m neighbor \u001b[38;5;129;01mnot\u001b[39;00m \u001b[38;5;129;01min\u001b[39;00m closed_list \u001b[38;5;129;01mand\u001b[39;00m neighbor \u001b[38;5;129;01mnot\u001b[39;00m \u001b[38;5;129;01min\u001b[39;00m open_list:\n\u001b[0;32m     22\u001b[0m         open_list\u001b[38;5;241m.\u001b[39mappend(neighbor)  \n",
      "\u001b[1;31mNameError\u001b[0m: name 'get_neighbors' is not defined"
     ]
    }
   ],
   "source": [
    "warehouse=np.array([['S',' ',' ',' ','-'],\n",
    "                    ['-',' ',' ',' ','-'],\n",
    "                    [' ','-',' ',' ',' '],\n",
    "                    [' ',' ',' ','-',' '],\n",
    "                    ['-',' ',' ','D','-']])\n",
    "percept=Percept(0,0,4,3,warehouse)\n",
    "greedy_search(percept)\n",
    "print(\"\\nYou Reached at destination \\n\")"
   ]
  },
  {
   "cell_type": "markdown",
   "id": "f5366335-2d60-4f5e-b7e8-9732be1150c6",
   "metadata": {},
   "source": [
    "# Task 2"
   ]
  },
  {
   "cell_type": "code",
   "execution_count": 40,
   "id": "647d6ad3-38f7-4031-9d42-d71d3ec9dae3",
   "metadata": {},
   "outputs": [
    {
     "name": "stdout",
     "output_type": "stream",
     "text": [
      "90\n",
      "Cooling room...\n",
      "84\n",
      "Cooling room...\n",
      "44\n",
      "Cooling room...\n",
      "25\n",
      "Maintaining temperature...\n",
      "72\n",
      "Cooling room...\n"
     ]
    }
   ],
   "source": [
    "import random\n",
    "class TemperatureAgent:\n",
    "    def __init__(self, dtempmin,dtempmax):\n",
    "        self.temp_max = dtempmax\n",
    "        self.temp_min = dtempmin\n",
    "\n",
    "    def perceive(self, realtemp):\n",
    "        self.curr_temp = realtemp\n",
    "\n",
    "    def decide_action(self):\n",
    "        if self.curr_temp < self.temp_min:\n",
    "            return \"heat\"\n",
    "        elif self.curr_temp > self.temp_max:\n",
    "            return \"cool\"\n",
    "        else:\n",
    "            return \"maintain\"\n",
    "\n",
    "    def act(self, action):\n",
    "        if action == \"heat\":\n",
    "            print(\"Heating room...\")\n",
    "        elif action == \"cool\":\n",
    "            print(\"Cooling room...\")\n",
    "        else:\n",
    "            print(\"Maintaining temperature...\")\n",
    "\n",
    "agent = TemperatureAgent(18,28)\n",
    "for i in range(5):\n",
    "    temp = random.randint(0, 100)\n",
    "    print(temp)\n",
    "    agent.perceive(temp)\n",
    "    agent.act(agent.decide_action())\n"
   ]
  }
 ],
 "metadata": {
  "kernelspec": {
   "display_name": "Python 3 (ipykernel)",
   "language": "python",
   "name": "python3"
  },
  "language_info": {
   "codemirror_mode": {
    "name": "ipython",
    "version": 3
   },
   "file_extension": ".py",
   "mimetype": "text/x-python",
   "name": "python",
   "nbconvert_exporter": "python",
   "pygments_lexer": "ipython3",
   "version": "3.11.5"
  }
 },
 "nbformat": 4,
 "nbformat_minor": 5
}
