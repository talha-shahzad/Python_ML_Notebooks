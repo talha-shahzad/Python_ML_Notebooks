{
  "nbformat": 4,
  "nbformat_minor": 0,
  "metadata": {
    "colab": {
      "provenance": []
    },
    "kernelspec": {
      "name": "python3",
      "display_name": "Python 3"
    },
    "language_info": {
      "name": "python"
    }
  },
  "cells": [
    {
      "cell_type": "markdown",
      "source": [
        "# **Talha Shahzad**\n",
        "# **Section : C**\n",
        "# **21i-0540**\n",
        "# **LAB 7**"
      ],
      "metadata": {
        "id": "u5Zngz4H_CKc"
      }
    },
    {
      "cell_type": "markdown",
      "source": [
        "# Task 1"
      ],
      "metadata": {
        "id": "dkJGjQXyzeOA"
      }
    },
    {
      "cell_type": "code",
      "execution_count": 1,
      "metadata": {
        "id": "dC0ntVR1zdjT"
      },
      "outputs": [],
      "source": [
        "import random\n",
        "\n",
        "ingredients = {\n",
        "    'flour': {'cost': 1.5, 'taste_rating': 7},\n",
        "    'sugar': {'cost': 2, 'taste_rating': 8},\n",
        "    'eggs': {'cost': 2.5, 'taste_rating': 9},\n",
        "    'butter': {'cost': 3, 'taste_rating': 9},\n",
        "    'chocolate': {'cost': 4, 'taste_rating': 10},\n",
        "    'vanilla': {'cost': 1, 'taste_rating': 7}\n",
        "}\n",
        "\n",
        "budget_limit = 10"
      ]
    },
    {
      "cell_type": "code",
      "source": [
        "def generate_random_combination():\n",
        "  combination = []\n",
        "  sum=0\n",
        "  while True:\n",
        "    ingredient = random.choice(list(ingredients.keys()))\n",
        "    if ingredient not in combination:\n",
        "      combination.append(ingredient)\n",
        "      for i in combination:\n",
        "        sum+=ingredients[i]['cost']\n",
        "      if sum > budget_limit:\n",
        "        break\n",
        "  return combination"
      ],
      "metadata": {
        "id": "esjkzZpIzpYj"
      },
      "execution_count": 2,
      "outputs": []
    },
    {
      "cell_type": "code",
      "source": [
        "def generate_neighboring_combinations(combination):\n",
        "  new_combinations = []\n",
        "\n",
        "  for i in ingredients.keys():\n",
        "    sum=0\n",
        "    for ing in combination:\n",
        "      sum+=ingredients[ing]['cost']\n",
        "    if i not in combination and sum + ingredients[i]['cost'] <= budget_limit:\n",
        "      new_combinations.append(combination + [i])\n",
        "    elif i in combination:\n",
        "      temp = combination.copy()\n",
        "      temp.remove(i)\n",
        "      new_combinations.append(temp)\n",
        "  return new_combinations\n"
      ],
      "metadata": {
        "id": "fp_izJuozuwl"
      },
      "execution_count": 3,
      "outputs": []
    },
    {
      "cell_type": "code",
      "source": [
        "def evaluate_combination(combination):\n",
        "  sum=0\n",
        "  for i in combination:\n",
        "    sum+=ingredients[i]['taste_rating']\n",
        "  return sum"
      ],
      "metadata": {
        "id": "o5HJGaXlzsh-"
      },
      "execution_count": 4,
      "outputs": []
    },
    {
      "cell_type": "code",
      "source": [
        "def first_choice():\n",
        "  combination = generate_random_combination()\n",
        "  rating = evaluate_combination(combination)\n",
        "  while True:\n",
        "    neighboring_combinations = generate_neighboring_combinations(combination)\n",
        "    improved = False\n",
        "    for i in neighboring_combinations:\n",
        "      neighbor_rating = evaluate_combination(i)\n",
        "      if neighbor_rating > rating:\n",
        "        combination = i\n",
        "        rating = neighbor_rating\n",
        "        improved = True\n",
        "        break\n",
        "    if not improved:\n",
        "      break\n",
        "  return combination,rating"
      ],
      "metadata": {
        "id": "RL2ePYqIzy81"
      },
      "execution_count": 5,
      "outputs": []
    },
    {
      "cell_type": "code",
      "source": [
        "optimal_rating=0\n",
        "optimal_combination=[]\n",
        "for _ in range(5):\n",
        "  combination,rating = first_choice()\n",
        "  if(rating>optimal_rating):\n",
        "    optimal_rating=rating\n",
        "    optimal_combination=combination\n",
        "print(\"Optimal Combination:\", optimal_combination)\n",
        "print(\"Optimal Taste Rating:\", optimal_rating)\n"
      ],
      "metadata": {
        "colab": {
          "base_uri": "https://localhost:8080/"
        },
        "id": "Xj0TC8cYz5vW",
        "outputId": "5e34e4ae-62f3-406a-cf4a-01012094491f"
      },
      "execution_count": 6,
      "outputs": [
        {
          "output_type": "stream",
          "name": "stdout",
          "text": [
            "Optimal Combination: ['sugar', 'flour', 'butter', 'eggs', 'vanilla']\n",
            "Optimal Taste Rating: 40\n"
          ]
        }
      ]
    },
    {
      "cell_type": "markdown",
      "source": [
        "# Task 2"
      ],
      "metadata": {
        "id": "m4ZU2t04-_pW"
      }
    },
    {
      "cell_type": "code",
      "source": [
        "import random\n",
        "\n",
        "locations = {\n",
        "    \"A\": {\"priority\": 2, \"time\": 10},\n",
        "    \"B\": {\"priority\": 3, \"time\": 15},\n",
        "    \"C\": {\"priority\": 1, \"time\": 5},\n",
        "    \"D\": {\"priority\": 4, \"time\": 20},\n",
        "    \"E\": {\"priority\": 5, \"time\": 25}\n",
        "}"
      ],
      "metadata": {
        "id": "Gag4X4_Nz-0o"
      },
      "execution_count": 7,
      "outputs": []
    },
    {
      "cell_type": "code",
      "source": [
        "def generate_initial_state(locations):\n",
        "  return random.sample(list(locations.keys()), len(locations))\n"
      ],
      "metadata": {
        "id": "UV1_SeCBKChI"
      },
      "execution_count": 8,
      "outputs": []
    },
    {
      "cell_type": "code",
      "source": [
        "def generate_neighbors(state):\n",
        "  neighbors = []\n",
        "  for i in range(len(state) - 1):\n",
        "    neighbor = state[:]\n",
        "    neighbor[i], neighbor[i+1] = neighbor[i+1], neighbor[i]\n",
        "    neighbors.append(neighbor)\n",
        "  return neighbors\n"
      ],
      "metadata": {
        "id": "7AUx0xUJD2Ch"
      },
      "execution_count": 9,
      "outputs": []
    },
    {
      "cell_type": "code",
      "source": [
        "def evaluate_route(route, locations):\n",
        "  total_time = 0\n",
        "  total_priority = 0\n",
        "  for i in range(1, len(route)):\n",
        "    location = route[i]\n",
        "    total_time += locations[location][\"time\"]\n",
        "    total_priority += locations[location][\"priority\"]\n",
        "  return total_time, total_priority\n"
      ],
      "metadata": {
        "id": "AEIInuYFKPFy"
      },
      "execution_count": 10,
      "outputs": []
    },
    {
      "cell_type": "code",
      "source": [
        "# Local Beam Search Algorithm\n",
        "def local_beam_search(locations, beam_width, max_iterations):\n",
        "  current_states=[]\n",
        "  for _ in range(beam_width):\n",
        "    current_states.append(generate_initial_state(locations))\n",
        "  print(current_states)\n",
        "\n",
        "  for _ in range(max_iterations):\n",
        "    new_states = []\n",
        "    for i in current_states:\n",
        "      neighbors = generate_neighbors(i)\n",
        "      new_states.extend(neighbors)\n",
        "      new_states = sorted(new_states, key=lambda x: evaluate_route(x, locations))[:beam_width]\n",
        "\n",
        "    if evaluate_route(new_states[0], locations) == evaluate_route(current_states[0], locations):\n",
        "      break\n",
        "\n",
        "    current_states = new_states\n",
        "\n",
        "  return current_states[0]"
      ],
      "metadata": {
        "id": "YCsv2T0xKYMC"
      },
      "execution_count": 11,
      "outputs": []
    },
    {
      "cell_type": "code",
      "source": [
        "beam_width=3\n",
        "iterations=10\n",
        "best_route = local_beam_search(locations,beam_width,iterations)\n",
        "time, priority = evaluate_route(best_route, locations)\n",
        "print(\"Best Route:\", best_route)\n",
        "print(\"Total Time:\", time)\n",
        "print(\"Total Priority:\", priority)"
      ],
      "metadata": {
        "colab": {
          "base_uri": "https://localhost:8080/"
        },
        "id": "NfrqflNSKcHj",
        "outputId": "1eed61dc-9284-4be1-ab22-a1db30f58e62"
      },
      "execution_count": 12,
      "outputs": [
        {
          "output_type": "stream",
          "name": "stdout",
          "text": [
            "[['B', 'A', 'D', 'E', 'C'], ['D', 'E', 'B', 'A', 'C'], ['B', 'D', 'A', 'C', 'E']]\n",
            "Best Route: ['E', 'D', 'B', 'A', 'C']\n",
            "Total Time: 50\n",
            "Total Priority: 10\n"
          ]
        }
      ]
    },
    {
      "cell_type": "code",
      "source": [],
      "metadata": {
        "id": "bQ7-LBLYKfDN"
      },
      "execution_count": 12,
      "outputs": []
    }
  ]
}