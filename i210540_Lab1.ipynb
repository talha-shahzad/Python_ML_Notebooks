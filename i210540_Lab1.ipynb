{
 "cells": [
  {
   "cell_type": "code",
   "execution_count": 25,
   "id": "be2bef73-29d2-4caa-8c93-9381323d2702",
   "metadata": {
    "scrolled": true
   },
   "outputs": [
    {
     "name": "stdin",
     "output_type": "stream",
     "text": [
      "enter a positive number 4578\n"
     ]
    },
    {
     "name": "stdout",
     "output_type": "stream",
     "text": [
      "final Result is :  MMMMDLXXVIII\n"
     ]
    }
   ],
   "source": [
    "# TASK 1\n",
    "ints = [1000,900,500,400,100,90,50,40,10,9,5,4,1]\n",
    "numerals= ['M','CM','D','CD','C','XC','L','XL','X','IX','V','IV','I']\n",
    "\n",
    "num = input('enter a positive number')\n",
    "num=int(num)\n",
    "\n",
    "count=0;\n",
    "\n",
    "result=''\n",
    "\n",
    "for i in ints:\n",
    "    store=0;\n",
    "    count+=1;\n",
    "    if(num>=i):\n",
    "        store=int(num/i)\n",
    "        num=int(num%i)\n",
    "        if(store>=1):\n",
    "            for j in range(store):\n",
    "                result+=numerals[count-1]\n",
    "\n",
    "print(\"final Result is : \", result)\n"
   ]
  },
  {
   "cell_type": "code",
   "execution_count": 95,
   "id": "337aac57-6b09-49be-8c83-fc47bfc63d0c",
   "metadata": {},
   "outputs": [
    {
     "name": "stdout",
     "output_type": "stream",
     "text": [
      "Student :  1\n",
      "['talha', 67.5, 95, 34]\n",
      "Student :  2\n",
      "['ali', 60.25, 87, 24]\n",
      "Student :  3\n",
      "['hush', 68.75, 98, 45]\n"
     ]
    }
   ],
   "source": [
    "# TASK 2\n",
    "\n",
    "def maximum(list):\n",
    "\n",
    "    max=0;\n",
    "    for i in list:\n",
    "        if(max<i):\n",
    "            max=i\n",
    "    return max;\n",
    "    \n",
    "def minimum(list):\n",
    "\n",
    "    min=99999999999;\n",
    "    for i in list:\n",
    "        if(min>i):\n",
    "            min=i\n",
    "    return min;\n",
    "\n",
    "\n",
    "sm1= (95,34,65,76)\n",
    "sm2= (87,54,76,24)\n",
    "sm3= (76,45,98,56)\n",
    "avg=[]\n",
    "max=[]\n",
    "min=[]\n",
    "st1=[\"talha\"]\n",
    "st2=[\"ali\"]\n",
    "st3=[\"hush\"]\n",
    "count=0;\n",
    "sum=0;\n",
    "for i in [sm1,sm2,sm3]:\n",
    "    sum=0;\n",
    "    count+=1;\n",
    "    for j in i:\n",
    "        sum+=j\n",
    "    av=sum/4\n",
    "    avg.append(av);\n",
    "    max.append(maximum(i))\n",
    "    min.append(minimum(i))\n",
    "\n",
    "coun=0;\n",
    "for i in [st1,st2,st3]:\n",
    "        i.append(avg[coun])\n",
    "        i.append(max[coun])\n",
    "        i.append(min[coun])\n",
    "        coun+=1\n",
    "count =0;\n",
    "for i in [st1,st2,st3]:\n",
    "    count+=1;\n",
    "    print(\"Student : \", count )\n",
    "    print(i)\n"
   ]
  },
  {
   "cell_type": "code",
   "execution_count": 8,
   "id": "1b504e61-d8c0-442b-a133-18bf6785dd27",
   "metadata": {},
   "outputs": [
    {
     "name": "stdout",
     "output_type": "stream",
     "text": [
      "1 , talha , 50000.0\n",
      "1 , talha , 50450.0\n",
      "1 , talha , 41015.0\n",
      "1 , talha , 38964.25\n"
     ]
    }
   ],
   "source": [
    "#TASK 3\n",
    "class BankAcc:\n",
    "    def __init__(self,acc=0,name='',bal=0):\n",
    "        self.account=acc\n",
    "        self.name=name\n",
    "        self.balance=bal\n",
    "    def display(self):\n",
    "        print(\"{0} , {1} , {2}\".format(self.account,self.name, self.balance))\n",
    "    def Deposit(self,bal):\n",
    "        self.balance+=bal\n",
    "    def WithDraw(self,bal):\n",
    "        if(bal>0):\n",
    "            self.balance-=bal\n",
    "    def bankFees(self):\n",
    "        self.balance=self.balance-(self.balance*5/100)\n",
    "    \n",
    "acc = BankAcc(1,\"talha\",50000.00);\n",
    "acc.display();\n",
    "acc.Deposit(450.0)\n",
    "acc.display();\n",
    "acc.WithDraw(9435)\n",
    "acc.display();\n",
    "acc.bankFees();\n",
    "acc.display();\n"
   ]
  },
  {
   "cell_type": "code",
   "execution_count": 24,
   "id": "1e9aef5c-dbe7-4c3f-b9ec-dc569bf48e55",
   "metadata": {},
   "outputs": [
    {
     "name": "stdout",
     "output_type": "stream",
     "text": [
      "4 , 30 \n",
      "Total Minutes are : 270\n"
     ]
    }
   ],
   "source": [
    "# TASK 4\n",
    "class Time:\n",
    "    def __init__(self,hour,min):\n",
    "        self.hours=hour\n",
    "        self.mints=min\n",
    "def addTime(obj1, obj2):\n",
    "    tim=Time(0,0)\n",
    "    sum=obj1.mints+obj2.mints\n",
    "    if(sum>60):\n",
    "        sum-=60;\n",
    "        tim.hours+=1;\n",
    "    tim.mints=sum;\n",
    "    tim.hours+=obj1.hours+obj2.hours\n",
    "    return tim\n",
    "def Display(obj):\n",
    "    print(\"{} , {} \".format(obj.hours,obj.mints));\n",
    "def DisplayMinutes(obj1):\n",
    "    mints=0\n",
    "    for i in range(obj1.hours):\n",
    "        mints+=60;\n",
    "    mints+=obj1.mints\n",
    "    print(\"Total Minutes are : {}\".format(mints))\n",
    "time1=Time(2,50)\n",
    "time2=Time(1,40)\n",
    "time3 = addTime(time1,time2)\n",
    "Display(time3)\n",
    "DisplayMinutes(time3)"
   ]
  },
  {
   "cell_type": "code",
   "execution_count": null,
   "id": "0d336541-eb07-436b-8bbb-99172cd2c44e",
   "metadata": {},
   "outputs": [],
   "source": []
  }
 ],
 "metadata": {
  "kernelspec": {
   "display_name": "Python 3 (ipykernel)",
   "language": "python",
   "name": "python3"
  },
  "language_info": {
   "codemirror_mode": {
    "name": "ipython",
    "version": 3
   },
   "file_extension": ".py",
   "mimetype": "text/x-python",
   "name": "python",
   "nbconvert_exporter": "python",
   "pygments_lexer": "ipython3",
   "version": "3.11.5"
  }
 },
 "nbformat": 4,
 "nbformat_minor": 5
}
