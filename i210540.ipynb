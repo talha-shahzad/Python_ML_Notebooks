{
 "cells": [
  {
   "cell_type": "code",
   "execution_count": 2,
   "id": "46dec0c8-5991-4760-84f2-05ccf80d9bba",
   "metadata": {},
   "outputs": [],
   "source": [
    "# Talha Shahzad\n",
    "# 21i-0540\n"
   ]
  },
  {
   "cell_type": "code",
   "execution_count": 3,
   "id": "84880ee98ea0a401",
   "metadata": {
    "ExecuteTime": {
     "end_time": "2024-02-27T19:12:41.445324100Z",
     "start_time": "2024-02-27T19:12:41.412153Z"
    },
    "collapsed": false,
    "jupyter": {
     "outputs_hidden": false
    }
   },
   "outputs": [],
   "source": [
    "from collections import deque\n",
    "\n",
    "def bfs_search(graph, start):\n",
    "    queue = deque([(start, [start], graph[start][-1])])  \n",
    "    min_cost = float('inf')\n",
    "    min_cost_path = []\n",
    "\n",
    "    while queue:\n",
    "        node, path, total_cost = queue.popleft()\n",
    "        if total_cost < min_cost and len(path) == len(graph): \n",
    "            min_cost = total_cost\n",
    "            min_cost_path = path\n",
    "\n",
    "        for neighbor, cost in graph[node].items():\n",
    "            if neighbor != -1 and neighbor not in path: \n",
    "                new_total_cost = total_cost + cost\n",
    "                new_path = path + [neighbor]\n",
    "                queue.append((neighbor, new_path, new_total_cost))\n",
    "\n",
    "    return min_cost_path, min_cost"
   ]
  },
  {
   "cell_type": "code",
   "execution_count": 9,
   "id": "ab924f3aadff74ca",
   "metadata": {
    "ExecuteTime": {
     "end_time": "2024-02-27T19:12:41.935794400Z",
     "start_time": "2024-02-27T19:12:41.896262Z"
    },
    "collapsed": false,
    "jupyter": {
     "outputs_hidden": false
    }
   },
   "outputs": [],
   "source": [
    "bfs_paths = []\n",
    "for key in graph:\n",
    "    cost, path = bfs_search(graph, key)\n",
    "    bfs_paths.append((cost, path))"
   ]
  },
  {
   "cell_type": "code",
   "execution_count": 18,
   "id": "bbb97c3d753fa9fe",
   "metadata": {
    "ExecuteTime": {
     "end_time": "2024-02-27T19:12:42.703513400Z",
     "start_time": "2024-02-27T19:12:42.678976800Z"
    },
    "collapsed": false,
    "jupyter": {
     "outputs_hidden": false
    }
   },
   "outputs": [
    {
     "name": "stdout",
     "output_type": "stream",
     "text": [
      "([1, 3, 5, 4, 2], 436.82399999999996)\n",
      "([2, 4, 5, 3, 1], 448.399)\n",
      "([3, 1, 5, 4, 2], 522.323)\n",
      "([4, 5, 1, 3, 2], 520.7520000000001)\n",
      "([5, 4, 1, 3, 2], 518.9010000000001)\n"
     ]
    }
   ],
   "source": [
    "for path in bfs_paths:\n",
    "    print(path)"
   ]
  },
  {
   "cell_type": "code",
   "execution_count": 10,
   "id": "9f31f34cfadcdc38",
   "metadata": {
    "ExecuteTime": {
     "end_time": "2024-02-27T19:39:52.283259200Z",
     "start_time": "2024-02-27T19:39:52.260260700Z"
    },
    "collapsed": false,
    "jupyter": {
     "outputs_hidden": false
    }
   },
   "outputs": [],
   "source": [
    "def UCS_search(graph, start):\n",
    "    queue = deque([(start, [start], graph[start][-1])]) \n",
    "    min_cost = float('inf')\n",
    "    min_cost_path = []\n",
    "\n",
    "    while queue:\n",
    "        node, path, total_cost = queue.popleft()\n",
    "        if total_cost < min_cost and len(path) == len(graph):\n",
    "            min_cost = total_cost\n",
    "            min_cost_path = path\n",
    "\n",
    "        for neighbor, cost in graph[node].items():\n",
    "            if neighbor != -1 and neighbor not in path:\n",
    "                new_total_cost = total_cost + cost\n",
    "                new_path = path + [neighbor]\n",
    "                queue.append((neighbor, new_path, new_total_cost))\n",
    "\n",
    "    return min_cost_path, min_cost"
   ]
  },
  {
   "cell_type": "code",
   "execution_count": 11,
   "id": "7eb03fb94b6a611b",
   "metadata": {
    "ExecuteTime": {
     "end_time": "2024-02-27T19:39:52.506545800Z",
     "start_time": "2024-02-27T19:39:52.487549400Z"
    },
    "collapsed": false,
    "jupyter": {
     "outputs_hidden": false
    }
   },
   "outputs": [],
   "source": [
    "ucs_paths = []"
   ]
  },
  {
   "cell_type": "code",
   "execution_count": 12,
   "id": "a747befd854ca87e",
   "metadata": {
    "ExecuteTime": {
     "end_time": "2024-02-27T19:39:53.068833400Z",
     "start_time": "2024-02-27T19:39:53.060800800Z"
    },
    "collapsed": false,
    "jupyter": {
     "outputs_hidden": false
    }
   },
   "outputs": [],
   "source": [
    "for key in graph:\n",
    "    cost, path = UCS_search(graph, key)\n",
    "    ucs_paths.append((cost, path))"
   ]
  },
  {
   "cell_type": "code",
   "execution_count": 13,
   "id": "d1a88652b57c2cb7",
   "metadata": {
    "ExecuteTime": {
     "end_time": "2024-02-27T19:40:01.404696200Z",
     "start_time": "2024-02-27T19:40:01.367166500Z"
    },
    "collapsed": false,
    "jupyter": {
     "outputs_hidden": false
    }
   },
   "outputs": [
    {
     "name": "stdout",
     "output_type": "stream",
     "text": [
      "([1, 3, 5, 4, 2], 436.82399999999996)\n",
      "([2, 4, 5, 3, 1], 448.399)\n",
      "([3, 1, 5, 4, 2], 522.323)\n",
      "([4, 5, 1, 3, 2], 520.7520000000001)\n",
      "([5, 4, 1, 3, 2], 518.9010000000001)\n"
     ]
    }
   ],
   "source": [
    "for path in ucs_paths:\n",
    "    print(path)"
   ]
  },
  {
   "cell_type": "code",
   "execution_count": 15,
   "id": "4ff931d2-65e8-44af-8e54-fc8c5191424c",
   "metadata": {},
   "outputs": [],
   "source": [
    "def dfs(graph, start, visited=None, path=None, total_cost=0, min_cost=float('inf'), min_cost_path=None):\n",
    "    if visited is None:\n",
    "        visited = set()\n",
    "    if path is None:\n",
    "        path = [start]\n",
    "\n",
    "    visited.add(start)\n",
    "\n",
    "\n",
    "    if total_cost < min_cost and len(visited) == len(graph):\n",
    "        min_cost = total_cost\n",
    "        min_cost_path = path.copy()\n",
    "\n",
    "\n",
    "    if start in graph:\n",
    "        for neighbor, cost in graph[start].items():\n",
    "            if neighbor != -1 and neighbor not in visited: \n",
    "                new_total_cost = total_cost + cost\n",
    "                new_path = path + [neighbor]\n",
    "                min_cost_path, min_cost = dfs(graph, neighbor, visited, new_path, new_total_cost, min_cost, min_cost_path)\n",
    "\n",
    "    visited.remove(start)\n",
    "\n",
    "    return min_cost_path, min_cost\n"
   ]
  },
  {
   "cell_type": "code",
   "execution_count": 16,
   "id": "62a29f02-42e3-403e-ab4a-5a9c7ade6e0e",
   "metadata": {},
   "outputs": [],
   "source": [
    "dfs_paths = []\n",
    "for key in graph:\n",
    "    cost, path = dfs(graph, key,total_cost =graph[key][-1])\n",
    "    dfs_paths.append((cost, path))"
   ]
  },
  {
   "cell_type": "code",
   "execution_count": 17,
   "id": "525e22a0-a752-4cf9-b1da-168428c67eba",
   "metadata": {},
   "outputs": [
    {
     "name": "stdout",
     "output_type": "stream",
     "text": [
      "([1, 3, 5, 4, 2], 436.82399999999996)\n",
      "([2, 4, 5, 3, 1], 448.399)\n",
      "([3, 1, 5, 4, 2], 522.323)\n",
      "([4, 5, 1, 3, 2], 520.7520000000001)\n",
      "([5, 4, 1, 3, 2], 518.9010000000001)\n"
     ]
    }
   ],
   "source": [
    "for path in dfs_paths:\n",
    "    print(path)"
   ]
  },
  {
   "cell_type": "code",
   "execution_count": 18,
   "id": "7345c93b-ea6d-4bcc-81f8-57e69da6135d",
   "metadata": {},
   "outputs": [],
   "source": [
    "\n",
    "def readfile(file_path):\n",
    "    graph = {}  # {node: {neighbor: cost}}\n",
    "    with open(file_path, \"r\") as file:\n",
    "        for line in file:\n",
    "            line = line.replace('{', ',').replace('}', ',').replace('\\n', '').split(',')\n",
    "            line = list(filter(lambda a: a != '', line))\n",
    "\n",
    "            node = int(line[0])\n",
    "            cost = float(line[-1])\n",
    "            parent_set = []\n",
    "            if len(line) == 2:\n",
    "                parent_set = [-1]  \n",
    "            else:\n",
    "                for i in range(1, len(line)-1):\n",
    "                    parent_set.append(int(line[i]))\n",
    "\n",
    "            \n",
    "            if node in graph:\n",
    "                for parent_node in parent_set:\n",
    "                    graph[node][parent_node] = cost\n",
    "            else:\n",
    "                graph[node] = {}\n",
    "                for parent_node in parent_set:\n",
    "                    graph[node][parent_node] = cost\n",
    "\n",
    "    return graph\n"
   ]
  },
  {
   "cell_type": "code",
   "execution_count": 19,
   "id": "548c2a6b-a7ae-46f1-ad0d-cdf37493e293",
   "metadata": {},
   "outputs": [
    {
     "name": "stdout",
     "output_type": "stream",
     "text": [
      "{1: {-1: 153.466, 3: 96.093, 4: 97.913, 5: 99.835}, 2: {-1: 141.023, 3: 122.446, 4: 121.576, 5: 123.398}, 3: {-1: 169.482, 1: 107.516, 2: 107.516, 4: 51.681, 5: 41.775}, 4: {-1: 169.482, 1: 108.982, 2: 108.982, 3: 51.681, 5: 36.188}, 5: {-1: 169.802, 1: 111.473, 2: 111.473, 3: 42.096, 4: 36.508}}\n"
     ]
    }
   ],
   "source": [
    "\n",
    "graph = readfile(\"data0.txt\")\n",
    "print(graph)"
   ]
  },
  {
   "cell_type": "code",
   "execution_count": 20,
   "id": "181cbb16-015c-4ae5-aecd-5d06a8255630",
   "metadata": {},
   "outputs": [
    {
     "name": "stdout",
     "output_type": "stream",
     "text": [
      "1 {-1: 153.466, 3: 96.093, 4: 97.913, 5: 99.835}\n",
      "153.466\n",
      "2 {-1: 141.023, 3: 122.446, 4: 121.576, 5: 123.398}\n",
      "141.023\n",
      "3 {-1: 169.482, 1: 107.516, 2: 107.516, 4: 51.681, 5: 41.775}\n",
      "169.482\n",
      "4 {-1: 169.482, 1: 108.982, 2: 108.982, 3: 51.681, 5: 36.188}\n",
      "169.482\n",
      "5 {-1: 169.802, 1: 111.473, 2: 111.473, 3: 42.096, 4: 36.508}\n",
      "169.802\n"
     ]
    }
   ],
   "source": [
    "for key in graph:\n",
    "    print(key, graph[key])\n",
    "    print(graph[key][-1])"
   ]
  },
  {
   "cell_type": "code",
   "execution_count": null,
   "id": "747b59c5-4174-4175-9461-8a4c19f2b7b6",
   "metadata": {},
   "outputs": [],
   "source": []
  }
 ],
 "metadata": {
  "kernelspec": {
   "display_name": "Python 3 (ipykernel)",
   "language": "python",
   "name": "python3"
  },
  "language_info": {
   "codemirror_mode": {
    "name": "ipython",
    "version": 3
   },
   "file_extension": ".py",
   "mimetype": "text/x-python",
   "name": "python",
   "nbconvert_exporter": "python",
   "pygments_lexer": "ipython3",
   "version": "3.11.5"
  }
 },
 "nbformat": 4,
 "nbformat_minor": 5
}
